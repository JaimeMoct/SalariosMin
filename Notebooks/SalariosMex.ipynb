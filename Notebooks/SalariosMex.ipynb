{
 "cells": [
  {
   "cell_type": "markdown",
   "id": "1723de3e-27d5-431b-b186-41f850703f08",
   "metadata": {},
   "source": [
    "# Analisis exploratorio Salarios en México."
   ]
  },
  {
   "cell_type": "markdown",
   "id": "54fc7ace-5455-4d93-95f6-fcd50d0182c6",
   "metadata": {},
   "source": [
    "## Explorando los datos. "
   ]
  },
  {
   "cell_type": "markdown",
   "id": "e3ee0365-e90c-49b3-b9ed-d16b7ab9c270",
   "metadata": {},
   "source": [
    "En esta primera sección se ubican las funciones básicas para la carga de los datos que se utilizan para este proyecto."
   ]
  },
  {
   "cell_type": "markdown",
   "id": "892ea455-d8ff-4e12-bedb-f87217e6a6ab",
   "metadata": {},
   "source": [
    "El conjunto de datos empleados para este proyecto fueron extraidos de la página [\"Datos abiertos de México: Salario mínimo 2023\"](https://datos.gob.mx/busca/dataset/salario-minimo-2023) de datos.gob."
   ]
  },
  {
   "cell_type": "markdown",
   "id": "e73dd02d-1b9d-4f32-aed6-996b9938c75f",
   "metadata": {},
   "source": [
    "## Descripción de los datos "
   ]
  },
  {
   "cell_type": "markdown",
   "id": "3dea596e-fcbb-462e-a24d-a61b1a5184ce",
   "metadata": {},
   "source": [
    "## Carga de los conjunto de datos "
   ]
  },
  {
   "cell_type": "code",
   "execution_count": null,
   "id": "65ed3900-1df0-4b3e-a42d-fdf407d1b65c",
   "metadata": {},
   "outputs": [],
   "source": [
    "import pandas as pd \n",
    "import numpy as np\n",
    "import matplotlib.pyplot as plt"
   ]
  },
  {
   "cell_type": "code",
   "execution_count": null,
   "id": "61d3fab6-6f35-4b1a-b702-42e58c40bdbd",
   "metadata": {},
   "outputs": [],
   "source": [
    "#Lectura de datos en Python. \n",
    "zonas = pd.read_csv('C:/Users/suare/Downloads/Zonas_Salariales_2023.csv')\n",
    "Capital = pd.read_csv('C:/Users/suare/Downloads/Salarios_Minimos_Generales_y_Profesionales_1966_2023_Capital.csv')\n",
    "promedio = pd.read_csv('C:/Users/suare/Downloads/Salarios_Minimos_Generales_1992_2023_Zonas.csv')"
   ]
  },
  {
   "cell_type": "markdown",
   "id": "72780265-12ad-4b23-933d-67ced406963a",
   "metadata": {},
   "source": [
    "## Exploración de los datos "
   ]
  },
  {
   "cell_type": "code",
   "execution_count": 25,
   "id": "c3a2b254-f014-4665-9f93-7fc812c14d46",
   "metadata": {},
   "outputs": [
    {
     "data": {
      "text/plain": [
       "Index(['clave_agee', 'nombre_agee', 'clave_agem', 'nombre_agem',\n",
       "       'zona_salario'],\n",
       "      dtype='object')"
      ]
     },
     "execution_count": 25,
     "metadata": {},
     "output_type": "execute_result"
    }
   ],
   "source": [
    "# ¿Qué columnas tienen los datos de zonas.\n",
    "zonas.columns"
   ]
  },
  {
   "cell_type": "code",
   "execution_count": 26,
   "id": "27796c36-43ed-41aa-9937-27d656a0928d",
   "metadata": {},
   "outputs": [
    {
     "data": {
      "text/plain": [
       "(2476, 5)"
      ]
     },
     "execution_count": 26,
     "metadata": {},
     "output_type": "execute_result"
    }
   ],
   "source": [
    "# ¿Qué tamaño tienen los datos de zonas.\n",
    "zonas.shape"
   ]
  },
  {
   "cell_type": "code",
   "execution_count": 27,
   "id": "50031dda-95e7-4b93-b0bd-83d9033a51e5",
   "metadata": {},
   "outputs": [
    {
     "name": "stdout",
     "output_type": "stream",
     "text": [
      "<class 'pandas.core.frame.DataFrame'>\n",
      "RangeIndex: 2476 entries, 0 to 2475\n",
      "Data columns (total 5 columns):\n",
      " #   Column        Non-Null Count  Dtype  \n",
      "---  ------        --------------  -----  \n",
      " 0   clave_agee    2476 non-null   int64  \n",
      " 1   nombre_agee   2476 non-null   object \n",
      " 2   clave_agem    2474 non-null   float64\n",
      " 3   nombre_agem   2476 non-null   object \n",
      " 4   zona_salario  2476 non-null   object \n",
      "dtypes: float64(1), int64(1), object(3)\n",
      "memory usage: 96.8+ KB\n"
     ]
    }
   ],
   "source": [
    "# Comprobando si existen datos nulos.\n",
    "zonas.info()"
   ]
  },
  {
   "cell_type": "code",
   "execution_count": 28,
   "id": "beab4229-c0fb-4240-a52f-a7281adbfdca",
   "metadata": {},
   "outputs": [
    {
     "data": {
      "text/html": [
       "<div>\n",
       "<style scoped>\n",
       "    .dataframe tbody tr th:only-of-type {\n",
       "        vertical-align: middle;\n",
       "    }\n",
       "\n",
       "    .dataframe tbody tr th {\n",
       "        vertical-align: top;\n",
       "    }\n",
       "\n",
       "    .dataframe thead th {\n",
       "        text-align: right;\n",
       "    }\n",
       "</style>\n",
       "<table border=\"1\" class=\"dataframe\">\n",
       "  <thead>\n",
       "    <tr style=\"text-align: right;\">\n",
       "      <th></th>\n",
       "      <th>clave_agee</th>\n",
       "      <th>clave_agem</th>\n",
       "    </tr>\n",
       "  </thead>\n",
       "  <tbody>\n",
       "    <tr>\n",
       "      <th>count</th>\n",
       "      <td>2476.000000</td>\n",
       "      <td>2474.000000</td>\n",
       "    </tr>\n",
       "    <tr>\n",
       "      <th>mean</th>\n",
       "      <td>19.185784</td>\n",
       "      <td>108.611156</td>\n",
       "    </tr>\n",
       "    <tr>\n",
       "      <th>std</th>\n",
       "      <td>7.381126</td>\n",
       "      <td>132.194486</td>\n",
       "    </tr>\n",
       "    <tr>\n",
       "      <th>min</th>\n",
       "      <td>1.000000</td>\n",
       "      <td>1.000000</td>\n",
       "    </tr>\n",
       "    <tr>\n",
       "      <th>25%</th>\n",
       "      <td>14.000000</td>\n",
       "      <td>23.000000</td>\n",
       "    </tr>\n",
       "    <tr>\n",
       "      <th>50%</th>\n",
       "      <td>20.000000</td>\n",
       "      <td>56.000000</td>\n",
       "    </tr>\n",
       "    <tr>\n",
       "      <th>75%</th>\n",
       "      <td>24.000000</td>\n",
       "      <td>127.000000</td>\n",
       "    </tr>\n",
       "    <tr>\n",
       "      <th>max</th>\n",
       "      <td>32.000000</td>\n",
       "      <td>570.000000</td>\n",
       "    </tr>\n",
       "  </tbody>\n",
       "</table>\n",
       "</div>"
      ],
      "text/plain": [
       "        clave_agee   clave_agem\n",
       "count  2476.000000  2474.000000\n",
       "mean     19.185784   108.611156\n",
       "std       7.381126   132.194486\n",
       "min       1.000000     1.000000\n",
       "25%      14.000000    23.000000\n",
       "50%      20.000000    56.000000\n",
       "75%      24.000000   127.000000\n",
       "max      32.000000   570.000000"
      ]
     },
     "execution_count": 28,
     "metadata": {},
     "output_type": "execute_result"
    }
   ],
   "source": [
    "# ¿Cómo se distribuyen las variables númericas?\n",
    "zonas.describe()"
   ]
  },
  {
   "cell_type": "code",
   "execution_count": null,
   "id": "714769a3-d3de-41e6-9124-9f29f4a65e35",
   "metadata": {},
   "outputs": [],
   "source": []
  }
 ],
 "metadata": {
  "kernelspec": {
   "display_name": "Python 3 (ipykernel)",
   "language": "python",
   "name": "python3"
  },
  "language_info": {
   "codemirror_mode": {
    "name": "ipython",
    "version": 3
   },
   "file_extension": ".py",
   "mimetype": "text/x-python",
   "name": "python",
   "nbconvert_exporter": "python",
   "pygments_lexer": "ipython3",
   "version": "3.10.9"
  }
 },
 "nbformat": 4,
 "nbformat_minor": 5
}
