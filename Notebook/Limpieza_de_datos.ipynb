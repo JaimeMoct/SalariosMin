{
 "cells": [
  {
   "cell_type": "markdown",
   "id": "1723de3e-27d5-431b-b186-41f850703f08",
   "metadata": {},
   "source": [
    "# Analisis exploratorio Salarios en México."
   ]
  },
  {
   "cell_type": "markdown",
   "id": "54fc7ace-5455-4d93-95f6-fcd50d0182c6",
   "metadata": {},
   "source": [
    "## Explorando los datos. "
   ]
  },
  {
   "cell_type": "markdown",
   "id": "e3ee0365-e90c-49b3-b9ed-d16b7ab9c270",
   "metadata": {},
   "source": [
    "En esta primera sección se ubican las funciones básicas para la carga de los datos que se utilizan para este proyecto."
   ]
  },
  {
   "cell_type": "markdown",
   "id": "892ea455-d8ff-4e12-bedb-f87217e6a6ab",
   "metadata": {},
   "source": [
    "El conjunto de datos empleados para este proyecto fueron extraidos de la página [\"Datos abiertos de México: Salario mínimo 2023\"](https://datos.gob.mx/busca/dataset/salario-minimo-2023) de datos.gob, los cuales se encuentran como [\"Salarios Mínimos Generales y Profesionales 2009-2023 Zonas\"](https://datos.gob.mx/busca/dataset/salario-minimo-2023/resource/89f07954-6ccd-4f97-8fb4-c644573e9f92)."
   ]
  },
  {
   "cell_type": "markdown",
   "id": "3dea596e-fcbb-462e-a24d-a61b1a5184ce",
   "metadata": {},
   "source": [
    "## Carga de los conjunto de datos "
   ]
  },
  {
   "cell_type": "markdown",
   "id": "27498876-f252-4666-9958-aa451494cb7c",
   "metadata": {},
   "source": [
    "Vamos a emplear los datos descargados en la sección de \"Explorando los datos\"."
   ]
  },
  {
   "cell_type": "code",
   "execution_count": 149,
   "id": "65ed3900-1df0-4b3e-a42d-fdf407d1b65c",
   "metadata": {},
   "outputs": [],
   "source": [
    "import pandas as pd \n",
    "import numpy as np\n",
    "import matplotlib.pyplot as plt"
   ]
  },
  {
   "cell_type": "code",
   "execution_count": 39,
   "id": "61d3fab6-6f35-4b1a-b702-42e58c40bdbd",
   "metadata": {},
   "outputs": [],
   "source": [
    "#Lectura de datos en Python. \n",
    "salarios = pd.read_csv(\"C:/Users/suare/Downloads/Salarios_Minimos_Generales_y_Profesionales_2009_2023_Zonas.csv\") #Nos dirije al archivo. "
   ]
  },
  {
   "cell_type": "code",
   "execution_count": 40,
   "id": "4b0366bc-a49f-430e-af28-5dd97e0c0531",
   "metadata": {},
   "outputs": [
    {
     "data": {
      "text/html": [
       "<div>\n",
       "<style scoped>\n",
       "    .dataframe tbody tr th:only-of-type {\n",
       "        vertical-align: middle;\n",
       "    }\n",
       "\n",
       "    .dataframe tbody tr th {\n",
       "        vertical-align: top;\n",
       "    }\n",
       "\n",
       "    .dataframe thead th {\n",
       "        text-align: right;\n",
       "    }\n",
       "</style>\n",
       "<table border=\"1\" class=\"dataframe\">\n",
       "  <thead>\n",
       "    <tr style=\"text-align: right;\">\n",
       "      <th></th>\n",
       "      <th>inicio_vigencia</th>\n",
       "      <th>zona</th>\n",
       "      <th>salario_minimo_general</th>\n",
       "      <th>albanileria</th>\n",
       "      <th>archivista</th>\n",
       "      <th>boticas</th>\n",
       "      <th>buldozer</th>\n",
       "      <th>cajero</th>\n",
       "      <th>cajista</th>\n",
       "      <th>cantinero</th>\n",
       "      <th>...</th>\n",
       "      <th>talabartero</th>\n",
       "      <th>tablajero</th>\n",
       "      <th>tapicero_autos</th>\n",
       "      <th>tapicero_muebles</th>\n",
       "      <th>trabajador_hogar</th>\n",
       "      <th>trabajador_social</th>\n",
       "      <th>vaquero</th>\n",
       "      <th>velador</th>\n",
       "      <th>vendedor_piso</th>\n",
       "      <th>zapatero</th>\n",
       "    </tr>\n",
       "  </thead>\n",
       "  <tbody>\n",
       "    <tr>\n",
       "      <th>0</th>\n",
       "      <td>01/01/2009</td>\n",
       "      <td>a</td>\n",
       "      <td>54.80</td>\n",
       "      <td>79.87</td>\n",
       "      <td>76.35</td>\n",
       "      <td>69.50</td>\n",
       "      <td>84.13</td>\n",
       "      <td>70.84</td>\n",
       "      <td>75.41</td>\n",
       "      <td>72.49</td>\n",
       "      <td>...</td>\n",
       "      <td>74.47</td>\n",
       "      <td>74.47</td>\n",
       "      <td>75.76</td>\n",
       "      <td>75.76</td>\n",
       "      <td>NaN</td>\n",
       "      <td>90.34</td>\n",
       "      <td>69.27</td>\n",
       "      <td>70.73</td>\n",
       "      <td>72.84</td>\n",
       "      <td>71.72</td>\n",
       "    </tr>\n",
       "    <tr>\n",
       "      <th>1</th>\n",
       "      <td>01/01/2009</td>\n",
       "      <td>b</td>\n",
       "      <td>53.26</td>\n",
       "      <td>77.81</td>\n",
       "      <td>74.29</td>\n",
       "      <td>67.65</td>\n",
       "      <td>81.74</td>\n",
       "      <td>69.11</td>\n",
       "      <td>73.52</td>\n",
       "      <td>70.53</td>\n",
       "      <td>...</td>\n",
       "      <td>72.47</td>\n",
       "      <td>72.47</td>\n",
       "      <td>73.93</td>\n",
       "      <td>73.93</td>\n",
       "      <td>NaN</td>\n",
       "      <td>87.84</td>\n",
       "      <td>67.47</td>\n",
       "      <td>68.70</td>\n",
       "      <td>70.99</td>\n",
       "      <td>69.94</td>\n",
       "    </tr>\n",
       "    <tr>\n",
       "      <th>2</th>\n",
       "      <td>01/01/2009</td>\n",
       "      <td>c</td>\n",
       "      <td>51.95</td>\n",
       "      <td>75.71</td>\n",
       "      <td>72.24</td>\n",
       "      <td>65.94</td>\n",
       "      <td>79.61</td>\n",
       "      <td>67.35</td>\n",
       "      <td>71.42</td>\n",
       "      <td>68.70</td>\n",
       "      <td>...</td>\n",
       "      <td>70.46</td>\n",
       "      <td>70.46</td>\n",
       "      <td>71.88</td>\n",
       "      <td>71.88</td>\n",
       "      <td>NaN</td>\n",
       "      <td>85.56</td>\n",
       "      <td>65.34</td>\n",
       "      <td>67.17</td>\n",
       "      <td>68.99</td>\n",
       "      <td>68.11</td>\n",
       "    </tr>\n",
       "    <tr>\n",
       "      <th>3</th>\n",
       "      <td>01/01/2010</td>\n",
       "      <td>a</td>\n",
       "      <td>57.46</td>\n",
       "      <td>83.74</td>\n",
       "      <td>NaN</td>\n",
       "      <td>72.87</td>\n",
       "      <td>88.21</td>\n",
       "      <td>74.28</td>\n",
       "      <td>79.07</td>\n",
       "      <td>76.01</td>\n",
       "      <td>...</td>\n",
       "      <td>78.08</td>\n",
       "      <td>78.08</td>\n",
       "      <td>79.43</td>\n",
       "      <td>79.43</td>\n",
       "      <td>NaN</td>\n",
       "      <td>94.72</td>\n",
       "      <td>72.63</td>\n",
       "      <td>74.16</td>\n",
       "      <td>76.37</td>\n",
       "      <td>75.20</td>\n",
       "    </tr>\n",
       "    <tr>\n",
       "      <th>4</th>\n",
       "      <td>01/01/2010</td>\n",
       "      <td>b</td>\n",
       "      <td>55.84</td>\n",
       "      <td>81.58</td>\n",
       "      <td>NaN</td>\n",
       "      <td>70.93</td>\n",
       "      <td>85.70</td>\n",
       "      <td>72.46</td>\n",
       "      <td>77.09</td>\n",
       "      <td>73.95</td>\n",
       "      <td>...</td>\n",
       "      <td>75.98</td>\n",
       "      <td>75.98</td>\n",
       "      <td>77.52</td>\n",
       "      <td>77.52</td>\n",
       "      <td>NaN</td>\n",
       "      <td>92.10</td>\n",
       "      <td>70.74</td>\n",
       "      <td>72.03</td>\n",
       "      <td>74.43</td>\n",
       "      <td>73.33</td>\n",
       "    </tr>\n",
       "  </tbody>\n",
       "</table>\n",
       "<p>5 rows × 89 columns</p>\n",
       "</div>"
      ],
      "text/plain": [
       "  inicio_vigencia zona  salario_minimo_general  albanileria  archivista  \\\n",
       "0      01/01/2009    a                   54.80        79.87       76.35   \n",
       "1      01/01/2009    b                   53.26        77.81       74.29   \n",
       "2      01/01/2009    c                   51.95        75.71       72.24   \n",
       "3      01/01/2010    a                   57.46        83.74         NaN   \n",
       "4      01/01/2010    b                   55.84        81.58         NaN   \n",
       "\n",
       "   boticas  buldozer  cajero  cajista  cantinero  ...  talabartero  tablajero  \\\n",
       "0    69.50     84.13   70.84    75.41      72.49  ...        74.47      74.47   \n",
       "1    67.65     81.74   69.11    73.52      70.53  ...        72.47      72.47   \n",
       "2    65.94     79.61   67.35    71.42      68.70  ...        70.46      70.46   \n",
       "3    72.87     88.21   74.28    79.07      76.01  ...        78.08      78.08   \n",
       "4    70.93     85.70   72.46    77.09      73.95  ...        75.98      75.98   \n",
       "\n",
       "   tapicero_autos  tapicero_muebles  trabajador_hogar  trabajador_social  \\\n",
       "0           75.76             75.76               NaN              90.34   \n",
       "1           73.93             73.93               NaN              87.84   \n",
       "2           71.88             71.88               NaN              85.56   \n",
       "3           79.43             79.43               NaN              94.72   \n",
       "4           77.52             77.52               NaN              92.10   \n",
       "\n",
       "   vaquero  velador  vendedor_piso  zapatero  \n",
       "0    69.27    70.73          72.84     71.72  \n",
       "1    67.47    68.70          70.99     69.94  \n",
       "2    65.34    67.17          68.99     68.11  \n",
       "3    72.63    74.16          76.37     75.20  \n",
       "4    70.74    72.03          74.43     73.33  \n",
       "\n",
       "[5 rows x 89 columns]"
      ]
     },
     "execution_count": 40,
     "metadata": {},
     "output_type": "execute_result"
    }
   ],
   "source": [
    "salarios.head()"
   ]
  },
  {
   "cell_type": "markdown",
   "id": "72780265-12ad-4b23-933d-67ced406963a",
   "metadata": {},
   "source": [
    "## Exploración de los datos "
   ]
  },
  {
   "cell_type": "code",
   "execution_count": 41,
   "id": "64e780a1-e887-4e14-8091-387d5e9e0644",
   "metadata": {},
   "outputs": [
    {
     "data": {
      "text/plain": [
       "Index(['inicio_vigencia', 'zona', 'salario_minimo_general', 'albanileria',\n",
       "       'archivista', 'boticas', 'buldozer', 'cajero', 'cajista', 'cantinero',\n",
       "       'carpintero_obra', 'carpintero_muebles', 'cepilladora', 'cocinero',\n",
       "       'colchones', 'mosaico', 'contador', 'yesero', 'fierrero',\n",
       "       'cortador_calzado', 'costurero_taller', 'costurero_domicilio',\n",
       "       'chofer_acomodador', 'chofer_camion', 'chofer_camioneta', 'chofer_grua',\n",
       "       'draga', 'ebanista', 'electricista_instalaciones', 'electricista_autos',\n",
       "       'electricista_motores', 'gondola', 'bodega', 'enfermero_auxiliar',\n",
       "       'ferreterias', 'fogonero', 'gasolinero', 'herreria', 'hojalateria',\n",
       "       'hornero', 'jornalero', 'joyero_oficial', 'joyero_domicilio',\n",
       "       'laboratorios', 'linotipista', 'lubricador', 'maestro', 'manejador',\n",
       "       'maquinaria_agricola', 'maquina_fundicion', 'maquina_troquelado',\n",
       "       'maquina_madera', 'maquina_plastico', 'mecanico_fresador',\n",
       "       'mecanico_rectificadora', 'mecanico_autos', 'mecanico_tornero',\n",
       "       'moldero', 'montador_calzado', 'niquelado', 'peinador', 'perforista',\n",
       "       'pintor_autos', 'pintor_casas', 'planchador', 'plomero',\n",
       "       'prensa_offset', 'prensista', 'radiotecnico_electrico', 'recamarero',\n",
       "       'recepcionista', 'refaccionaria_autos', 'reparador_hogar', 'reportero',\n",
       "       'reportero_grafico', 'repostero', 'sastreria_domicilio', 'secretaria',\n",
       "       'soldador_soplete', 'talabartero', 'tablajero', 'tapicero_autos',\n",
       "       'tapicero_muebles', 'trabajador_hogar', 'trabajador_social', 'vaquero',\n",
       "       'velador', 'vendedor_piso', 'zapatero'],\n",
       "      dtype='object')"
      ]
     },
     "execution_count": 41,
     "metadata": {},
     "output_type": "execute_result"
    }
   ],
   "source": [
    "#Columnas de los datos \n",
    "salarios.columns"
   ]
  },
  {
   "cell_type": "code",
   "execution_count": 43,
   "id": "3c669a7a-7476-4f86-826f-923c562965d7",
   "metadata": {
    "tags": []
   },
   "outputs": [
    {
     "name": "stdout",
     "output_type": "stream",
     "text": [
      "<class 'pandas.core.frame.DataFrame'>\n",
      "RangeIndex: 36 entries, 0 to 35\n",
      "Data columns (total 89 columns):\n",
      " #   Column                      Non-Null Count  Dtype  \n",
      "---  ------                      --------------  -----  \n",
      " 0   inicio_vigencia             36 non-null     object \n",
      " 1   zona                        36 non-null     object \n",
      " 2   salario_minimo_general      36 non-null     float64\n",
      " 3   albanileria                 36 non-null     float64\n",
      " 4   archivista                  3 non-null      float64\n",
      " 5   boticas                     36 non-null     float64\n",
      " 6   buldozer                    36 non-null     float64\n",
      " 7   cajero                      36 non-null     float64\n",
      " 8   cajista                     16 non-null     float64\n",
      " 9   cantinero                   36 non-null     float64\n",
      " 10  carpintero_obra             23 non-null     float64\n",
      " 11  carpintero_muebles          36 non-null     float64\n",
      " 12  cepilladora                 3 non-null      float64\n",
      " 13  cocinero                    36 non-null     float64\n",
      " 14  colchones                   36 non-null     float64\n",
      " 15  mosaico                     36 non-null     float64\n",
      " 16  contador                    3 non-null      float64\n",
      " 17  yesero                      36 non-null     float64\n",
      " 18  fierrero                    3 non-null      float64\n",
      " 19  cortador_calzado            36 non-null     float64\n",
      " 20  costurero_taller            36 non-null     float64\n",
      " 21  costurero_domicilio         36 non-null     float64\n",
      " 22  chofer_acomodador           36 non-null     float64\n",
      " 23  chofer_camion               36 non-null     float64\n",
      " 24  chofer_camioneta            36 non-null     float64\n",
      " 25  chofer_grua                 36 non-null     float64\n",
      " 26  draga                       36 non-null     float64\n",
      " 27  ebanista                    36 non-null     float64\n",
      " 28  electricista_instalaciones  36 non-null     float64\n",
      " 29  electricista_autos          36 non-null     float64\n",
      " 30  electricista_motores        36 non-null     float64\n",
      " 31  gondola                     36 non-null     float64\n",
      " 32  bodega                      36 non-null     float64\n",
      " 33  enfermero_auxiliar          16 non-null     float64\n",
      " 34  ferreterias                 36 non-null     float64\n",
      " 35  fogonero                    36 non-null     float64\n",
      " 36  gasolinero                  36 non-null     float64\n",
      " 37  herreria                    36 non-null     float64\n",
      " 38  hojalateria                 36 non-null     float64\n",
      " 39  hornero                     9 non-null      float64\n",
      " 40  jornalero                   6 non-null      float64\n",
      " 41  joyero_oficial              16 non-null     float64\n",
      " 42  joyero_domicilio            16 non-null     float64\n",
      " 43  laboratorios                3 non-null      float64\n",
      " 44  linotipista                 16 non-null     float64\n",
      " 45  lubricador                  36 non-null     float64\n",
      " 46  maestro                     16 non-null     float64\n",
      " 47  manejador                   36 non-null     float64\n",
      " 48  maquinaria_agricola         36 non-null     float64\n",
      " 49  maquina_fundicion           3 non-null      float64\n",
      " 50  maquina_troquelado          3 non-null      float64\n",
      " 51  maquina_madera              36 non-null     float64\n",
      " 52  maquina_plastico            3 non-null      float64\n",
      " 53  mecanico_fresador           3 non-null      float64\n",
      " 54  mecanico_rectificadora      3 non-null      float64\n",
      " 55  mecanico_autos              36 non-null     float64\n",
      " 56  mecanico_tornero            14 non-null     float64\n",
      " 57  moldero                     14 non-null     float64\n",
      " 58  montador_calzado            36 non-null     float64\n",
      " 59  niquelado                   14 non-null     float64\n",
      " 60  peinador                    36 non-null     float64\n",
      " 61  perforista                  16 non-null     float64\n",
      " 62  pintor_autos                36 non-null     float64\n",
      " 63  pintor_casas                36 non-null     float64\n",
      " 64  planchador                  36 non-null     float64\n",
      " 65  plomero                     36 non-null     float64\n",
      " 66  prensa_offset               16 non-null     float64\n",
      " 67  prensista                   16 non-null     float64\n",
      " 68  radiotecnico_electrico      36 non-null     float64\n",
      " 69  recamarero                  36 non-null     float64\n",
      " 70  recepcionista               6 non-null      float64\n",
      " 71  refaccionaria_autos         36 non-null     float64\n",
      " 72  reparador_hogar             36 non-null     float64\n",
      " 73  reportero                   36 non-null     float64\n",
      " 74  reportero_grafico           36 non-null     float64\n",
      " 75  repostero                   36 non-null     float64\n",
      " 76  sastreria_domicilio         36 non-null     float64\n",
      " 77  secretaria                  36 non-null     float64\n",
      " 78  soldador_soplete            36 non-null     float64\n",
      " 79  talabartero                 9 non-null      float64\n",
      " 80  tablajero                   36 non-null     float64\n",
      " 81  tapicero_autos              36 non-null     float64\n",
      " 82  tapicero_muebles            36 non-null     float64\n",
      " 83  trabajador_hogar            6 non-null      float64\n",
      " 84  trabajador_social           36 non-null     float64\n",
      " 85  vaquero                     36 non-null     float64\n",
      " 86  velador                     36 non-null     float64\n",
      " 87  vendedor_piso               36 non-null     float64\n",
      " 88  zapatero                    36 non-null     float64\n",
      "dtypes: float64(87), object(2)\n",
      "memory usage: 25.2+ KB\n"
     ]
    }
   ],
   "source": [
    "salarios.info()"
   ]
  },
  {
   "cell_type": "code",
   "execution_count": 71,
   "id": "6aa21a39-7688-4df1-b47e-6d224926bd22",
   "metadata": {},
   "outputs": [
    {
     "data": {
      "text/html": [
       "<div>\n",
       "<style scoped>\n",
       "    .dataframe tbody tr th:only-of-type {\n",
       "        vertical-align: middle;\n",
       "    }\n",
       "\n",
       "    .dataframe tbody tr th {\n",
       "        vertical-align: top;\n",
       "    }\n",
       "\n",
       "    .dataframe thead th {\n",
       "        text-align: right;\n",
       "    }\n",
       "</style>\n",
       "<table border=\"1\" class=\"dataframe\">\n",
       "  <thead>\n",
       "    <tr style=\"text-align: right;\">\n",
       "      <th></th>\n",
       "      <th>salario_minimo_general</th>\n",
       "      <th>albanileria</th>\n",
       "      <th>archivista</th>\n",
       "      <th>boticas</th>\n",
       "      <th>buldozer</th>\n",
       "      <th>cajero</th>\n",
       "      <th>cajista</th>\n",
       "      <th>cantinero</th>\n",
       "      <th>carpintero_obra</th>\n",
       "      <th>carpintero_muebles</th>\n",
       "      <th>...</th>\n",
       "      <th>talabartero</th>\n",
       "      <th>tablajero</th>\n",
       "      <th>tapicero_autos</th>\n",
       "      <th>tapicero_muebles</th>\n",
       "      <th>trabajador_hogar</th>\n",
       "      <th>trabajador_social</th>\n",
       "      <th>vaquero</th>\n",
       "      <th>velador</th>\n",
       "      <th>vendedor_piso</th>\n",
       "      <th>zapatero</th>\n",
       "    </tr>\n",
       "  </thead>\n",
       "  <tbody>\n",
       "    <tr>\n",
       "      <th>count</th>\n",
       "      <td>36.000000</td>\n",
       "      <td>36.000000</td>\n",
       "      <td>36.000000</td>\n",
       "      <td>36.000000</td>\n",
       "      <td>36.000000</td>\n",
       "      <td>36.000000</td>\n",
       "      <td>16.000000</td>\n",
       "      <td>36.000000</td>\n",
       "      <td>23.000000</td>\n",
       "      <td>36.000000</td>\n",
       "      <td>...</td>\n",
       "      <td>9.000000</td>\n",
       "      <td>36.000000</td>\n",
       "      <td>36.000000</td>\n",
       "      <td>36.000000</td>\n",
       "      <td>6.000000</td>\n",
       "      <td>36.000000</td>\n",
       "      <td>36.000000</td>\n",
       "      <td>36.000000</td>\n",
       "      <td>36.000000</td>\n",
       "      <td>36.000000</td>\n",
       "    </tr>\n",
       "    <tr>\n",
       "      <th>mean</th>\n",
       "      <td>98.495000</td>\n",
       "      <td>122.180000</td>\n",
       "      <td>74.293333</td>\n",
       "      <td>110.749167</td>\n",
       "      <td>126.813889</td>\n",
       "      <td>112.308056</td>\n",
       "      <td>80.188125</td>\n",
       "      <td>114.036111</td>\n",
       "      <td>141.603913</td>\n",
       "      <td>120.503889</td>\n",
       "      <td>...</td>\n",
       "      <td>75.847778</td>\n",
       "      <td>116.169722</td>\n",
       "      <td>117.677222</td>\n",
       "      <td>117.677222</td>\n",
       "      <td>225.598333</td>\n",
       "      <td>133.667222</td>\n",
       "      <td>110.391111</td>\n",
       "      <td>112.121389</td>\n",
       "      <td>114.365556</td>\n",
       "      <td>113.233611</td>\n",
       "    </tr>\n",
       "    <tr>\n",
       "      <th>std</th>\n",
       "      <td>66.006823</td>\n",
       "      <td>58.358635</td>\n",
       "      <td>0.491239</td>\n",
       "      <td>60.066648</td>\n",
       "      <td>57.851816</td>\n",
       "      <td>59.782657</td>\n",
       "      <td>4.942136</td>\n",
       "      <td>59.537515</td>\n",
       "      <td>65.831288</td>\n",
       "      <td>58.601643</td>\n",
       "      <td>...</td>\n",
       "      <td>3.398944</td>\n",
       "      <td>59.209548</td>\n",
       "      <td>58.947552</td>\n",
       "      <td>58.947552</td>\n",
       "      <td>55.558951</td>\n",
       "      <td>57.202374</td>\n",
       "      <td>60.171094</td>\n",
       "      <td>59.840489</td>\n",
       "      <td>59.494915</td>\n",
       "      <td>59.635220</td>\n",
       "    </tr>\n",
       "    <tr>\n",
       "      <th>min</th>\n",
       "      <td>51.950000</td>\n",
       "      <td>75.710000</td>\n",
       "      <td>72.240000</td>\n",
       "      <td>65.940000</td>\n",
       "      <td>79.610000</td>\n",
       "      <td>67.350000</td>\n",
       "      <td>71.420000</td>\n",
       "      <td>68.700000</td>\n",
       "      <td>70.460000</td>\n",
       "      <td>74.190000</td>\n",
       "      <td>...</td>\n",
       "      <td>70.460000</td>\n",
       "      <td>70.460000</td>\n",
       "      <td>71.880000</td>\n",
       "      <td>71.880000</td>\n",
       "      <td>154.030000</td>\n",
       "      <td>85.560000</td>\n",
       "      <td>65.340000</td>\n",
       "      <td>67.170000</td>\n",
       "      <td>68.990000</td>\n",
       "      <td>68.110000</td>\n",
       "    </tr>\n",
       "    <tr>\n",
       "      <th>25%</th>\n",
       "      <td>59.080000</td>\n",
       "      <td>86.100000</td>\n",
       "      <td>74.293333</td>\n",
       "      <td>74.990000</td>\n",
       "      <td>90.540000</td>\n",
       "      <td>76.610000</td>\n",
       "      <td>76.670000</td>\n",
       "      <td>78.130000</td>\n",
       "      <td>98.780000</td>\n",
       "      <td>84.380000</td>\n",
       "      <td>...</td>\n",
       "      <td>73.880000</td>\n",
       "      <td>80.140000</td>\n",
       "      <td>81.760000</td>\n",
       "      <td>81.760000</td>\n",
       "      <td>194.287500</td>\n",
       "      <td>97.310000</td>\n",
       "      <td>74.320000</td>\n",
       "      <td>76.400000</td>\n",
       "      <td>78.470000</td>\n",
       "      <td>77.460000</td>\n",
       "    </tr>\n",
       "    <tr>\n",
       "      <th>50%</th>\n",
       "      <td>66.870000</td>\n",
       "      <td>97.450000</td>\n",
       "      <td>74.293333</td>\n",
       "      <td>84.840000</td>\n",
       "      <td>102.575000</td>\n",
       "      <td>86.595000</td>\n",
       "      <td>80.735000</td>\n",
       "      <td>88.455000</td>\n",
       "      <td>110.640000</td>\n",
       "      <td>95.575000</td>\n",
       "      <td>...</td>\n",
       "      <td>75.980000</td>\n",
       "      <td>90.785000</td>\n",
       "      <td>92.505000</td>\n",
       "      <td>92.505000</td>\n",
       "      <td>219.445000</td>\n",
       "      <td>110.180000</td>\n",
       "      <td>84.325000</td>\n",
       "      <td>86.395000</td>\n",
       "      <td>88.840000</td>\n",
       "      <td>87.580000</td>\n",
       "    </tr>\n",
       "    <tr>\n",
       "      <th>75%</th>\n",
       "      <td>107.815000</td>\n",
       "      <td>126.060000</td>\n",
       "      <td>74.293333</td>\n",
       "      <td>110.152500</td>\n",
       "      <td>132.580000</td>\n",
       "      <td>112.260000</td>\n",
       "      <td>83.812500</td>\n",
       "      <td>114.780000</td>\n",
       "      <td>181.140000</td>\n",
       "      <td>123.802500</td>\n",
       "      <td>...</td>\n",
       "      <td>78.080000</td>\n",
       "      <td>117.757500</td>\n",
       "      <td>119.732500</td>\n",
       "      <td>119.732500</td>\n",
       "      <td>251.630000</td>\n",
       "      <td>142.037500</td>\n",
       "      <td>109.800000</td>\n",
       "      <td>112.077500</td>\n",
       "      <td>115.307500</td>\n",
       "      <td>113.565000</td>\n",
       "    </tr>\n",
       "    <tr>\n",
       "      <th>max</th>\n",
       "      <td>312.410000</td>\n",
       "      <td>312.410000</td>\n",
       "      <td>76.350000</td>\n",
       "      <td>312.410000</td>\n",
       "      <td>312.410000</td>\n",
       "      <td>312.410000</td>\n",
       "      <td>89.120000</td>\n",
       "      <td>312.410000</td>\n",
       "      <td>312.410000</td>\n",
       "      <td>312.410000</td>\n",
       "      <td>...</td>\n",
       "      <td>81.280000</td>\n",
       "      <td>312.410000</td>\n",
       "      <td>312.410000</td>\n",
       "      <td>312.410000</td>\n",
       "      <td>312.410000</td>\n",
       "      <td>312.410000</td>\n",
       "      <td>312.410000</td>\n",
       "      <td>312.410000</td>\n",
       "      <td>312.410000</td>\n",
       "      <td>312.410000</td>\n",
       "    </tr>\n",
       "  </tbody>\n",
       "</table>\n",
       "<p>8 rows × 87 columns</p>\n",
       "</div>"
      ],
      "text/plain": [
       "       salario_minimo_general  albanileria  archivista     boticas  \\\n",
       "count               36.000000    36.000000   36.000000   36.000000   \n",
       "mean                98.495000   122.180000   74.293333  110.749167   \n",
       "std                 66.006823    58.358635    0.491239   60.066648   \n",
       "min                 51.950000    75.710000   72.240000   65.940000   \n",
       "25%                 59.080000    86.100000   74.293333   74.990000   \n",
       "50%                 66.870000    97.450000   74.293333   84.840000   \n",
       "75%                107.815000   126.060000   74.293333  110.152500   \n",
       "max                312.410000   312.410000   76.350000  312.410000   \n",
       "\n",
       "         buldozer      cajero    cajista   cantinero  carpintero_obra  \\\n",
       "count   36.000000   36.000000  16.000000   36.000000        23.000000   \n",
       "mean   126.813889  112.308056  80.188125  114.036111       141.603913   \n",
       "std     57.851816   59.782657   4.942136   59.537515        65.831288   \n",
       "min     79.610000   67.350000  71.420000   68.700000        70.460000   \n",
       "25%     90.540000   76.610000  76.670000   78.130000        98.780000   \n",
       "50%    102.575000   86.595000  80.735000   88.455000       110.640000   \n",
       "75%    132.580000  112.260000  83.812500  114.780000       181.140000   \n",
       "max    312.410000  312.410000  89.120000  312.410000       312.410000   \n",
       "\n",
       "       carpintero_muebles  ...  talabartero   tablajero  tapicero_autos  \\\n",
       "count           36.000000  ...     9.000000   36.000000       36.000000   \n",
       "mean           120.503889  ...    75.847778  116.169722      117.677222   \n",
       "std             58.601643  ...     3.398944   59.209548       58.947552   \n",
       "min             74.190000  ...    70.460000   70.460000       71.880000   \n",
       "25%             84.380000  ...    73.880000   80.140000       81.760000   \n",
       "50%             95.575000  ...    75.980000   90.785000       92.505000   \n",
       "75%            123.802500  ...    78.080000  117.757500      119.732500   \n",
       "max            312.410000  ...    81.280000  312.410000      312.410000   \n",
       "\n",
       "       tapicero_muebles  trabajador_hogar  trabajador_social     vaquero  \\\n",
       "count         36.000000          6.000000          36.000000   36.000000   \n",
       "mean         117.677222        225.598333         133.667222  110.391111   \n",
       "std           58.947552         55.558951          57.202374   60.171094   \n",
       "min           71.880000        154.030000          85.560000   65.340000   \n",
       "25%           81.760000        194.287500          97.310000   74.320000   \n",
       "50%           92.505000        219.445000         110.180000   84.325000   \n",
       "75%          119.732500        251.630000         142.037500  109.800000   \n",
       "max          312.410000        312.410000         312.410000  312.410000   \n",
       "\n",
       "          velador  vendedor_piso    zapatero  \n",
       "count   36.000000      36.000000   36.000000  \n",
       "mean   112.121389     114.365556  113.233611  \n",
       "std     59.840489      59.494915   59.635220  \n",
       "min     67.170000      68.990000   68.110000  \n",
       "25%     76.400000      78.470000   77.460000  \n",
       "50%     86.395000      88.840000   87.580000  \n",
       "75%    112.077500     115.307500  113.565000  \n",
       "max    312.410000     312.410000  312.410000  \n",
       "\n",
       "[8 rows x 87 columns]"
      ]
     },
     "execution_count": 71,
     "metadata": {},
     "output_type": "execute_result"
    }
   ],
   "source": [
    "salarios.describe()"
   ]
  },
  {
   "cell_type": "markdown",
   "id": "0648b73d-655c-4d51-8c39-62e8913e6c93",
   "metadata": {},
   "source": [
    "## Tratamiento de los datos"
   ]
  },
  {
   "cell_type": "code",
   "execution_count": 77,
   "id": "daea3760-07b4-47c3-8492-545d72b56e83",
   "metadata": {},
   "outputs": [
    {
     "name": "stdout",
     "output_type": "stream",
     "text": [
      "74.29333333333335\n"
     ]
    }
   ],
   "source": [
    "#Sacamos el promedio de la columna archivista\n",
    "promedio_archivista = salarios['archivista'].mean()\n",
    "print (promedio_variable)"
   ]
  },
  {
   "cell_type": "code",
   "execution_count": 73,
   "id": "0e561e8b-3096-4ea9-8a47-839dee89c368",
   "metadata": {},
   "outputs": [
    {
     "name": "stdout",
     "output_type": "stream",
     "text": [
      "0     76.350000\n",
      "1     74.290000\n",
      "2     72.240000\n",
      "3     74.293333\n",
      "4     74.293333\n",
      "5     74.293333\n",
      "6     74.293333\n",
      "7     74.293333\n",
      "8     74.293333\n",
      "9     74.293333\n",
      "10    74.293333\n",
      "11    74.293333\n",
      "12    74.293333\n",
      "13    74.293333\n",
      "14    74.293333\n",
      "15    74.293333\n",
      "16    74.293333\n",
      "17    74.293333\n",
      "18    74.293333\n",
      "19    74.293333\n",
      "20    74.293333\n",
      "21    74.293333\n",
      "22    74.293333\n",
      "23    74.293333\n",
      "24    74.293333\n",
      "25    74.293333\n",
      "26    74.293333\n",
      "27    74.293333\n",
      "28    74.293333\n",
      "29    74.293333\n",
      "30    74.293333\n",
      "31    74.293333\n",
      "32    74.293333\n",
      "33    74.293333\n",
      "34    74.293333\n",
      "35    74.293333\n",
      "Name: archivista, dtype: float64\n"
     ]
    }
   ],
   "source": [
    "#Agregamos los datos faltantes con el promedio de la variable\n",
    "salarios['archivista'] = salarios['archivista'].fillna(74.29333333333334)\n",
    "#Confirmamos que hayan sido cargados\n",
    "print(salarios['archivista']) "
   ]
  },
  {
   "cell_type": "code",
   "execution_count": 78,
   "id": "363e8944-280f-4c70-b298-3803c1a20f75",
   "metadata": {},
   "outputs": [
    {
     "name": "stdout",
     "output_type": "stream",
     "text": [
      "80.188125\n"
     ]
    }
   ],
   "source": [
    "promedio_cajista = salarios['cajista'].mean()\n",
    "print (promedio_cajista)"
   ]
  },
  {
   "cell_type": "code",
   "execution_count": 79,
   "id": "3a1651f3-f5a3-4dd1-991c-51674e05c1dc",
   "metadata": {},
   "outputs": [],
   "source": [
    "salarios['cajista'] = salarios['cajista'].fillna(80.188125)"
   ]
  },
  {
   "cell_type": "code",
   "execution_count": 87,
   "id": "1ed637a2-a312-4327-9a18-e3bee9966498",
   "metadata": {},
   "outputs": [
    {
     "name": "stdout",
     "output_type": "stream",
     "text": [
      "141.60391304347826\n"
     ]
    }
   ],
   "source": [
    "promedio_co = salarios['carpintero_obra'].mean()\n",
    "print (promedio_co)"
   ]
  },
  {
   "cell_type": "code",
   "execution_count": 88,
   "id": "44e60be2-8e9d-41b4-a6fc-cac837c55bf4",
   "metadata": {},
   "outputs": [],
   "source": [
    "salarios['carpintero_obra'] = salarios ['carpintero_obra'].fillna(141.60391304347826)"
   ]
  },
  {
   "cell_type": "code",
   "execution_count": 89,
   "id": "529ec876-7230-4002-bb3b-859d3d6035c5",
   "metadata": {},
   "outputs": [
    {
     "name": "stdout",
     "output_type": "stream",
     "text": [
      "73.85666666666667\n"
     ]
    }
   ],
   "source": [
    "promedio_cepilladora = salarios['cepilladora'].mean()\n",
    "print (promedio_cepilladora)"
   ]
  },
  {
   "cell_type": "code",
   "execution_count": 90,
   "id": "a53f1e15-9993-4d57-9099-6fd2be4be01a",
   "metadata": {},
   "outputs": [],
   "source": [
    "salarios['cepilladora'] = salarios['cepilladora'].fillna(73.85666666666667)"
   ]
  },
  {
   "cell_type": "code",
   "execution_count": 94,
   "id": "5afd081e-9baf-4b6d-8631-b75e39a5f0da",
   "metadata": {},
   "outputs": [
    {
     "name": "stdout",
     "output_type": "stream",
     "text": [
      "74.89333333333333\n"
     ]
    }
   ],
   "source": [
    "promedio_contador = salarios['contador'].mean()\n",
    "print (promedio_contador)"
   ]
  },
  {
   "cell_type": "code",
   "execution_count": 95,
   "id": "86558be5-d457-42c0-8100-8afeb3cd5080",
   "metadata": {},
   "outputs": [],
   "source": [
    "salarios['contador'] = salarios['contador'].fillna(74.89333333333333)"
   ]
  },
  {
   "cell_type": "code",
   "execution_count": 97,
   "id": "7290a70a-ccae-4037-b854-df15b3bee114",
   "metadata": {},
   "outputs": [
    {
     "name": "stdout",
     "output_type": "stream",
     "text": [
      "75.56\n"
     ]
    }
   ],
   "source": [
    "promedio_fierrero = salarios['fierrero'].mean()\n",
    "print (promedio_fierrero)"
   ]
  },
  {
   "cell_type": "code",
   "execution_count": 98,
   "id": "de4ebab4-6f93-48ca-a162-04d00f8ca0c6",
   "metadata": {},
   "outputs": [],
   "source": [
    "salarios['fierrero'] = salarios['fierrero'].fillna(75.56)"
   ]
  },
  {
   "cell_type": "code",
   "execution_count": 100,
   "id": "acc616e9-bb01-4103-94ca-fcd9ffa95b7a",
   "metadata": {},
   "outputs": [
    {
     "name": "stdout",
     "output_type": "stream",
     "text": [
      "79.12312499999999\n"
     ]
    }
   ],
   "source": [
    "promedio_enfermeroaux = salarios['enfermero_auxiliar'].mean()\n",
    "print (promedio_enfermeroaux)"
   ]
  },
  {
   "cell_type": "code",
   "execution_count": 101,
   "id": "97bbfecc-690b-4a61-8887-9e8376b778df",
   "metadata": {},
   "outputs": [],
   "source": [
    "salarios['enfermero_auxiliar'] = salarios['enfermero_auxiliar'].fillna(79.12312499999999)"
   ]
  },
  {
   "cell_type": "code",
   "execution_count": 103,
   "id": "6c56997b-e997-4b42-b7fd-c143dc2aaf8f",
   "metadata": {},
   "outputs": [
    {
     "name": "stdout",
     "output_type": "stream",
     "text": [
      "81.9588888888889\n"
     ]
    }
   ],
   "source": [
    "promedio_hornero = salarios['hornero'].mean()\n",
    "print (promedio_hornero)"
   ]
  },
  {
   "cell_type": "code",
   "execution_count": 104,
   "id": "79575f38-cd1b-4835-8554-38935bcc30ac",
   "metadata": {},
   "outputs": [],
   "source": [
    "salarios['hornero'] = salarios['hornero'].fillna(81.9588888888889)"
   ]
  },
  {
   "cell_type": "code",
   "execution_count": 106,
   "id": "456792ca-2b82-423a-a7ac-051ffaf04415",
   "metadata": {},
   "outputs": [
    {
     "name": "stdout",
     "output_type": "stream",
     "text": [
      "229.38\n"
     ]
    }
   ],
   "source": [
    "promedio_jornalero = salarios['jornalero'].mean()\n",
    "print (promedio_jornalero)"
   ]
  },
  {
   "cell_type": "code",
   "execution_count": 108,
   "id": "330d74c9-e90b-4a88-87e1-6329f70b844c",
   "metadata": {},
   "outputs": [],
   "source": [
    "salarios['jornalero'] = salarios['jornalero'].fillna(229.38)"
   ]
  },
  {
   "cell_type": "code",
   "execution_count": 110,
   "id": "2e757263-53d2-46ea-88af-465b575435ae",
   "metadata": {},
   "outputs": [
    {
     "name": "stdout",
     "output_type": "stream",
     "text": [
      "79.12312499999999\n"
     ]
    }
   ],
   "source": [
    "promedio_joyeroof = salarios['joyero_oficial'].mean()\n",
    "print (promedio_joyeroof)"
   ]
  },
  {
   "cell_type": "code",
   "execution_count": 111,
   "id": "ec16a37d-a4e7-4eda-b8b9-1c8e33e53fcf",
   "metadata": {},
   "outputs": [],
   "source": [
    "salarios['joyero_oficial'] = salarios['joyero_oficial'].fillna(79.12312499999999)"
   ]
  },
  {
   "cell_type": "code",
   "execution_count": 113,
   "id": "6fd7600c-156b-44bc-8f5e-6344c2df18af",
   "metadata": {},
   "outputs": [
    {
     "name": "stdout",
     "output_type": "stream",
     "text": [
      "82.56\n"
     ]
    }
   ],
   "source": [
    "promedio_joyerodom = salarios['joyero_domicilio'].mean()\n",
    "print (promedio_joyerodom)"
   ]
  },
  {
   "cell_type": "code",
   "execution_count": 114,
   "id": "785c7a1c-c282-4e8a-8549-71c8516298a0",
   "metadata": {},
   "outputs": [],
   "source": [
    "salarios['joyero_domicilio'] = salarios['joyero_domicilio'].fillna(82.56)"
   ]
  },
  {
   "cell_type": "code",
   "execution_count": 116,
   "id": "2762f3e8-7696-4347-bb7e-c59daa4a9a5b",
   "metadata": {},
   "outputs": [
    {
     "name": "stdout",
     "output_type": "stream",
     "text": [
      "71.44666666666666\n"
     ]
    }
   ],
   "source": [
    "promedio_laboratorios = salarios['laboratorios'].mean()\n",
    "print (promedio_laboratorios)"
   ]
  },
  {
   "cell_type": "code",
   "execution_count": 117,
   "id": "f793e614-2112-4b89-875c-5c44e2890f66",
   "metadata": {},
   "outputs": [],
   "source": [
    "salarios['laboratorios'] = salarios['laboratorios'].fillna(71.44666666666666)"
   ]
  },
  {
   "cell_type": "code",
   "execution_count": 119,
   "id": "163ac031-5af2-4487-b937-a3bcab2a7441",
   "metadata": {},
   "outputs": [
    {
     "name": "stdout",
     "output_type": "stream",
     "text": [
      "88.173125\n"
     ]
    }
   ],
   "source": [
    "promedio_linotipista = salarios['linotipista'].mean()\n",
    "print (promedio_linotipista)"
   ]
  },
  {
   "cell_type": "code",
   "execution_count": 120,
   "id": "98983696-c62b-420a-a107-f8eb94bae1ea",
   "metadata": {},
   "outputs": [],
   "source": [
    "salarios['linotipista'] = salarios['linotipista'].fillna(88.173125)"
   ]
  },
  {
   "cell_type": "code",
   "execution_count": 124,
   "id": "a345e6fb-25a9-460b-bfdc-db5bf29c4de1",
   "metadata": {},
   "outputs": [
    {
     "name": "stdout",
     "output_type": "stream",
     "text": [
      "89.74249999999999\n"
     ]
    }
   ],
   "source": [
    "promedio_maestro = salarios['maestro'].mean()\n",
    "print (promedio_maestro)"
   ]
  },
  {
   "cell_type": "code",
   "execution_count": 125,
   "id": "09b646a0-d264-4a80-b664-a123e29ec698",
   "metadata": {},
   "outputs": [],
   "source": [
    "salarios['maestro'] = salarios['maestro'].fillna(89.7425)"
   ]
  },
  {
   "cell_type": "code",
   "execution_count": 127,
   "id": "5057510a-2d1c-4696-8fff-ad8b25fec3b2",
   "metadata": {},
   "outputs": [
    {
     "name": "stdout",
     "output_type": "stream",
     "text": [
      "70.57333333333332\n"
     ]
    }
   ],
   "source": [
    "promedio_maquinafun = salarios['maquina_fundicion'].mean()\n",
    "print (promedio_maquinafun)"
   ]
  },
  {
   "cell_type": "code",
   "execution_count": 128,
   "id": "2d2b6379-07da-44ea-8a30-5e54bc5cb50b",
   "metadata": {},
   "outputs": [],
   "source": [
    "salarios['maquina_fundicion'] = salarios['maquina_fundicion'].fillna(70.57333333333332)"
   ]
  },
  {
   "cell_type": "code",
   "execution_count": 130,
   "id": "f0359552-f184-4fee-ba2d-b7071b75f63a",
   "metadata": {},
   "outputs": [
    {
     "name": "stdout",
     "output_type": "stream",
     "text": [
      "70.19666666666667\n"
     ]
    }
   ],
   "source": [
    "promedio_maquinatro = salarios['maquina_troquelado'].mean()\n",
    "print (promedio_maquinatro)"
   ]
  },
  {
   "cell_type": "code",
   "execution_count": 131,
   "id": "44cfec68-ceb0-4a50-8cdb-7c4b50839b59",
   "metadata": {},
   "outputs": [],
   "source": [
    "salarios['maquina_troquelado'] = salarios['maquina_troquelado'].fillna(70.19666666666667)"
   ]
  },
  {
   "cell_type": "code",
   "execution_count": 133,
   "id": "829a3eac-c3b9-4bf8-ae09-dc02bd27b7b5",
   "metadata": {},
   "outputs": [
    {
     "name": "stdout",
     "output_type": "stream",
     "text": [
      "68.86666666666667\n"
     ]
    }
   ],
   "source": [
    "promedio_maquinapla = salarios['maquina_plastico'].mean()\n",
    "print (promedio_maquinapla)"
   ]
  },
  {
   "cell_type": "code",
   "execution_count": 134,
   "id": "efacef1e-aff3-4e00-a6f1-431e58ece27e",
   "metadata": {},
   "outputs": [],
   "source": [
    "salarios['maquina_plastico'] = salarios['maquina_plastico'].fillna(68.86666666666667)"
   ]
  },
  {
   "cell_type": "code",
   "execution_count": 138,
   "id": "4a60ef00-b965-43d8-a784-3dc60dbc3ff1",
   "metadata": {},
   "outputs": [
    {
     "name": "stdout",
     "output_type": "stream",
     "text": [
      "78.46333333333332\n"
     ]
    }
   ],
   "source": [
    "promedio_mecaniofre = salarios['mecanico_fresador'].mean()\n",
    "print (promedio_mecaniofre)"
   ]
  },
  {
   "cell_type": "code",
   "execution_count": 140,
   "id": "60a24e23-832f-45a9-9c9f-44c029c1f718",
   "metadata": {},
   "outputs": [],
   "source": [
    "salarios['mecanico_fresador'] = salarios['mecanico_fresador'].fillna(78.46333333333332)"
   ]
  },
  {
   "cell_type": "code",
   "execution_count": 142,
   "id": "bb5be7b2-0598-438e-bd43-2d5515422212",
   "metadata": {},
   "outputs": [
    {
     "name": "stdout",
     "output_type": "stream",
     "text": [
      "75.62666666666667\n"
     ]
    }
   ],
   "source": [
    "promedio_mecanicorec = salarios['mecanico_rectificadora'].mean()\n",
    "print (promedio_mecanicorec)"
   ]
  },
  {
   "cell_type": "code",
   "execution_count": 143,
   "id": "c4d3b037-2acc-4b59-8d51-597292efa4b4",
   "metadata": {},
   "outputs": [],
   "source": [
    "salarios['mecanico_rectificadora'] = salarios['mecanico_rectificadora'].fillna(75.62666666666667)"
   ]
  },
  {
   "cell_type": "code",
   "execution_count": 145,
   "id": "19dd5c9e-f1cf-40b0-8666-f1cf9d66cf55",
   "metadata": {},
   "outputs": [
    {
     "name": "stdout",
     "output_type": "stream",
     "text": [
      "81.59500000000001\n"
     ]
    }
   ],
   "source": [
    "promedio_mecanicotor = salarios['mecanico_tornero'].mean()\n",
    "print (promedio_mecanicotor)"
   ]
  },
  {
   "cell_type": "code",
   "execution_count": 146,
   "id": "a1dd15e5-cbef-4070-b963-ce451c5fd07a",
   "metadata": {},
   "outputs": [],
   "source": [
    "salarios['mecanico_tornero'] = salarios['mecanico_tornero'].fillna(81.59500000000001)"
   ]
  },
  {
   "cell_type": "code",
   "execution_count": 150,
   "id": "fc5e2a29-0707-428b-8688-6f35b90708d0",
   "metadata": {},
   "outputs": [
    {
     "name": "stdout",
     "output_type": "stream",
     "text": [
      "79.6907142857143\n"
     ]
    }
   ],
   "source": [
    "promedio_moldero = salarios['moldero'].mean()\n",
    "print (promedio_moldero)"
   ]
  },
  {
   "cell_type": "code",
   "execution_count": 152,
   "id": "96077b72-38d9-489a-a1f1-10712dc8bcbc",
   "metadata": {},
   "outputs": [],
   "source": [
    "salarios['moldero'] = salarios['moldero'].fillna(79.6907142857143)"
   ]
  },
  {
   "cell_type": "code",
   "execution_count": 154,
   "id": "339e080b-5f75-47d8-a6b6-f860094408a4",
   "metadata": {},
   "outputs": [
    {
     "name": "stdout",
     "output_type": "stream",
     "text": [
      "79.25\n"
     ]
    }
   ],
   "source": [
    "promedio_niquelado = salarios['niquelado'].mean()\n",
    "print (promedio_niquelado)"
   ]
  },
  {
   "cell_type": "code",
   "execution_count": 166,
   "id": "7818d774-b35d-4065-b27e-d43115a9eb7b",
   "metadata": {},
   "outputs": [],
   "source": [
    "salarios['niquelado'] = salarios['niquelado'].fillna(79.25)"
   ]
  },
  {
   "cell_type": "code",
   "execution_count": 167,
   "id": "9d09fe6e-7d7d-44fc-a6d4-ffa49a77e94c",
   "metadata": {},
   "outputs": [
    {
     "name": "stdout",
     "output_type": "stream",
     "text": [
      "83.85187499999999\n"
     ]
    }
   ],
   "source": [
    "promedio_perforista = salarios['perforista'].mean()\n",
    "print (promedio_perforista)"
   ]
  },
  {
   "cell_type": "code",
   "execution_count": 168,
   "id": "ce0c9ef8-7165-4287-abbb-ab8ba8bd6fd2",
   "metadata": {},
   "outputs": [],
   "source": [
    "salarios['perforista'] = salarios['perforista'].fillna(83.851875)"
   ]
  },
  {
   "cell_type": "code",
   "execution_count": 169,
   "id": "c28a3509-6ac3-4708-b797-15854b2cebe6",
   "metadata": {},
   "outputs": [
    {
     "name": "stdout",
     "output_type": "stream",
     "text": [
      "84.93687499999997\n"
     ]
    }
   ],
   "source": [
    "promedio_prensaoff = salarios['prensa_offset'].mean()\n",
    "print (promedio_prensaoff)"
   ]
  },
  {
   "cell_type": "code",
   "execution_count": 170,
   "id": "5ef5c8fe-48c5-4778-99a9-d73635a6e92b",
   "metadata": {},
   "outputs": [],
   "source": [
    "salarios['prensa_offset'] = salarios['prensa_offset'].fillna(84.93687499999999)"
   ]
  },
  {
   "cell_type": "code",
   "execution_count": 171,
   "id": "1dff4a96-9100-4836-8691-58f85a20a816",
   "metadata": {},
   "outputs": [
    {
     "name": "stdout",
     "output_type": "stream",
     "text": [
      "79.123125\n"
     ]
    }
   ],
   "source": [
    "promedio_prensista = salarios['prensista'].mean()\n",
    "print (promedio_prensista)"
   ]
  },
  {
   "cell_type": "code",
   "execution_count": 172,
   "id": "364aae35-588c-45be-b10f-a7105f7de695",
   "metadata": {},
   "outputs": [],
   "source": [
    "salarios['prensista'] = salarios['prensista'].fillna(79.12312499999999)"
   ]
  },
  {
   "cell_type": "code",
   "execution_count": 174,
   "id": "429ccf35-629e-4403-ba62-a298557b014e",
   "metadata": {},
   "outputs": [
    {
     "name": "stdout",
     "output_type": "stream",
     "text": [
      "71.13666666666667\n"
     ]
    }
   ],
   "source": [
    "promedio_recepcionista = salarios['recepcionista'].mean()\n",
    "print (promedio_recepcionista)"
   ]
  },
  {
   "cell_type": "code",
   "execution_count": 175,
   "id": "59f83d8e-a9a6-42af-9527-376bd095eb09",
   "metadata": {},
   "outputs": [],
   "source": [
    "salarios['recepcionista'] = salarios['recepcionista'].fillna(71.13666666666667)"
   ]
  },
  {
   "cell_type": "code",
   "execution_count": 177,
   "id": "9253aad2-cd29-4e06-9f19-d44d14ae4572",
   "metadata": {},
   "outputs": [
    {
     "name": "stdout",
     "output_type": "stream",
     "text": [
      "75.84777777777778\n"
     ]
    }
   ],
   "source": [
    "promedio_talabartero = salarios['talabartero'].mean()\n",
    "print (promedio_talabartero)"
   ]
  },
  {
   "cell_type": "code",
   "execution_count": 178,
   "id": "27479d44-ee4c-4dc1-b3d1-10d2e1962dd7",
   "metadata": {},
   "outputs": [],
   "source": [
    "salarios['talabartero'] = salarios['talabartero'].fillna(75.84777777777778) "
   ]
  },
  {
   "cell_type": "code",
   "execution_count": 180,
   "id": "5cf376a9-dbd1-4aa8-8e78-0593f80ae7de",
   "metadata": {},
   "outputs": [
    {
     "name": "stdout",
     "output_type": "stream",
     "text": [
      "225.59833333333333\n"
     ]
    }
   ],
   "source": [
    "promedio_trabajadorhog = salarios['trabajador_hogar'].mean()\n",
    "print (promedio_trabajadorhog)"
   ]
  },
  {
   "cell_type": "code",
   "execution_count": 181,
   "id": "3eb33778-5676-4210-9891-d05761e48aac",
   "metadata": {},
   "outputs": [],
   "source": [
    "salarios['trabajador_hogar'] = salarios['trabajador_hogar'].fillna(225.59833333333333)"
   ]
  },
  {
   "cell_type": "code",
   "execution_count": 182,
   "id": "1765c732-a830-4007-9668-a6621fc19408",
   "metadata": {},
   "outputs": [
    {
     "name": "stdout",
     "output_type": "stream",
     "text": [
      "<class 'pandas.core.frame.DataFrame'>\n",
      "RangeIndex: 36 entries, 0 to 35\n",
      "Data columns (total 89 columns):\n",
      " #   Column                      Non-Null Count  Dtype  \n",
      "---  ------                      --------------  -----  \n",
      " 0   inicio_vigencia             36 non-null     object \n",
      " 1   zona                        36 non-null     object \n",
      " 2   salario_minimo_general      36 non-null     float64\n",
      " 3   albanileria                 36 non-null     float64\n",
      " 4   archivista                  36 non-null     float64\n",
      " 5   boticas                     36 non-null     float64\n",
      " 6   buldozer                    36 non-null     float64\n",
      " 7   cajero                      36 non-null     float64\n",
      " 8   cajista                     36 non-null     float64\n",
      " 9   cantinero                   36 non-null     float64\n",
      " 10  carpintero_obra             36 non-null     float64\n",
      " 11  carpintero_muebles          36 non-null     float64\n",
      " 12  cepilladora                 36 non-null     float64\n",
      " 13  cocinero                    36 non-null     float64\n",
      " 14  colchones                   36 non-null     float64\n",
      " 15  mosaico                     36 non-null     float64\n",
      " 16  contador                    36 non-null     float64\n",
      " 17  yesero                      36 non-null     float64\n",
      " 18  fierrero                    36 non-null     float64\n",
      " 19  cortador_calzado            36 non-null     float64\n",
      " 20  costurero_taller            36 non-null     float64\n",
      " 21  costurero_domicilio         36 non-null     float64\n",
      " 22  chofer_acomodador           36 non-null     float64\n",
      " 23  chofer_camion               36 non-null     float64\n",
      " 24  chofer_camioneta            36 non-null     float64\n",
      " 25  chofer_grua                 36 non-null     float64\n",
      " 26  draga                       36 non-null     float64\n",
      " 27  ebanista                    36 non-null     float64\n",
      " 28  electricista_instalaciones  36 non-null     float64\n",
      " 29  electricista_autos          36 non-null     float64\n",
      " 30  electricista_motores        36 non-null     float64\n",
      " 31  gondola                     36 non-null     float64\n",
      " 32  bodega                      36 non-null     float64\n",
      " 33  enfermero_auxiliar          36 non-null     float64\n",
      " 34  ferreterias                 36 non-null     float64\n",
      " 35  fogonero                    36 non-null     float64\n",
      " 36  gasolinero                  36 non-null     float64\n",
      " 37  herreria                    36 non-null     float64\n",
      " 38  hojalateria                 36 non-null     float64\n",
      " 39  hornero                     36 non-null     float64\n",
      " 40  jornalero                   36 non-null     float64\n",
      " 41  joyero_oficial              36 non-null     float64\n",
      " 42  joyero_domicilio            36 non-null     float64\n",
      " 43  laboratorios                36 non-null     float64\n",
      " 44  linotipista                 36 non-null     float64\n",
      " 45  lubricador                  36 non-null     float64\n",
      " 46  maestro                     36 non-null     float64\n",
      " 47  manejador                   36 non-null     float64\n",
      " 48  maquinaria_agricola         36 non-null     float64\n",
      " 49  maquina_fundicion           36 non-null     float64\n",
      " 50  maquina_troquelado          36 non-null     float64\n",
      " 51  maquina_madera              36 non-null     float64\n",
      " 52  maquina_plastico            36 non-null     float64\n",
      " 53  mecanico_fresador           36 non-null     float64\n",
      " 54  mecanico_rectificadora      36 non-null     float64\n",
      " 55  mecanico_autos              36 non-null     float64\n",
      " 56  mecanico_tornero            36 non-null     float64\n",
      " 57  moldero                     36 non-null     float64\n",
      " 58  montador_calzado            36 non-null     float64\n",
      " 59  niquelado                   36 non-null     float64\n",
      " 60  peinador                    36 non-null     float64\n",
      " 61  perforista                  36 non-null     float64\n",
      " 62  pintor_autos                36 non-null     float64\n",
      " 63  pintor_casas                36 non-null     float64\n",
      " 64  planchador                  36 non-null     float64\n",
      " 65  plomero                     36 non-null     float64\n",
      " 66  prensa_offset               36 non-null     float64\n",
      " 67  prensista                   36 non-null     float64\n",
      " 68  radiotecnico_electrico      36 non-null     float64\n",
      " 69  recamarero                  36 non-null     float64\n",
      " 70  recepcionista               36 non-null     float64\n",
      " 71  refaccionaria_autos         36 non-null     float64\n",
      " 72  reparador_hogar             36 non-null     float64\n",
      " 73  reportero                   36 non-null     float64\n",
      " 74  reportero_grafico           36 non-null     float64\n",
      " 75  repostero                   36 non-null     float64\n",
      " 76  sastreria_domicilio         36 non-null     float64\n",
      " 77  secretaria                  36 non-null     float64\n",
      " 78  soldador_soplete            36 non-null     float64\n",
      " 79  talabartero                 36 non-null     float64\n",
      " 80  tablajero                   36 non-null     float64\n",
      " 81  tapicero_autos              36 non-null     float64\n",
      " 82  tapicero_muebles            36 non-null     float64\n",
      " 83  trabajador_hogar            36 non-null     float64\n",
      " 84  trabajador_social           36 non-null     float64\n",
      " 85  vaquero                     36 non-null     float64\n",
      " 86  velador                     36 non-null     float64\n",
      " 87  vendedor_piso               36 non-null     float64\n",
      " 88  zapatero                    36 non-null     float64\n",
      "dtypes: float64(87), object(2)\n",
      "memory usage: 25.2+ KB\n"
     ]
    }
   ],
   "source": [
    "salarios.info()"
   ]
  },
  {
   "cell_type": "code",
   "execution_count": 184,
   "id": "be616fa7-9acd-4696-a14a-1993eb51787e",
   "metadata": {},
   "outputs": [
    {
     "name": "stdout",
     "output_type": "stream",
     "text": [
      "    inicio_vigencia   zona  salario_minimo_general  albanileria  archivista  \\\n",
      "0             False  False                   False        False       False   \n",
      "1             False  False                   False        False       False   \n",
      "2             False  False                   False        False       False   \n",
      "3             False  False                   False        False       False   \n",
      "4             False  False                   False        False       False   \n",
      "5             False  False                   False        False       False   \n",
      "6             False  False                   False        False       False   \n",
      "7             False  False                   False        False       False   \n",
      "8             False  False                   False        False       False   \n",
      "9             False  False                   False        False       False   \n",
      "10            False  False                   False        False       False   \n",
      "11            False  False                   False        False       False   \n",
      "12            False  False                   False        False       False   \n",
      "13            False  False                   False        False       False   \n",
      "14            False  False                   False        False       False   \n",
      "15            False  False                   False        False       False   \n",
      "16            False  False                   False        False       False   \n",
      "17            False  False                   False        False       False   \n",
      "18            False  False                   False        False       False   \n",
      "19            False  False                   False        False       False   \n",
      "20            False  False                   False        False       False   \n",
      "21            False  False                   False        False       False   \n",
      "22            False  False                   False        False       False   \n",
      "23            False  False                   False        False       False   \n",
      "24            False  False                   False        False       False   \n",
      "25            False  False                   False        False       False   \n",
      "26            False  False                   False        False       False   \n",
      "27            False  False                   False        False       False   \n",
      "28            False  False                   False        False       False   \n",
      "29            False  False                   False        False       False   \n",
      "30            False  False                   False        False       False   \n",
      "31            False  False                   False        False       False   \n",
      "32            False  False                   False        False       False   \n",
      "33            False  False                   False        False       False   \n",
      "34            False  False                   False        False       False   \n",
      "35            False  False                   False        False       False   \n",
      "\n",
      "    boticas  buldozer  cajero  cajista  cantinero  ...  talabartero  \\\n",
      "0     False     False   False    False      False  ...        False   \n",
      "1     False     False   False    False      False  ...        False   \n",
      "2     False     False   False    False      False  ...        False   \n",
      "3     False     False   False    False      False  ...        False   \n",
      "4     False     False   False    False      False  ...        False   \n",
      "5     False     False   False    False      False  ...        False   \n",
      "6     False     False   False    False      False  ...        False   \n",
      "7     False     False   False    False      False  ...        False   \n",
      "8     False     False   False    False      False  ...        False   \n",
      "9     False     False   False    False      False  ...        False   \n",
      "10    False     False   False    False      False  ...        False   \n",
      "11    False     False   False    False      False  ...        False   \n",
      "12    False     False   False    False      False  ...        False   \n",
      "13    False     False   False    False      False  ...        False   \n",
      "14    False     False   False    False      False  ...        False   \n",
      "15    False     False   False    False      False  ...        False   \n",
      "16    False     False   False    False      False  ...        False   \n",
      "17    False     False   False    False      False  ...        False   \n",
      "18    False     False   False    False      False  ...        False   \n",
      "19    False     False   False    False      False  ...        False   \n",
      "20    False     False   False    False      False  ...        False   \n",
      "21    False     False   False    False      False  ...        False   \n",
      "22    False     False   False    False      False  ...        False   \n",
      "23    False     False   False    False      False  ...        False   \n",
      "24    False     False   False    False      False  ...        False   \n",
      "25    False     False   False    False      False  ...        False   \n",
      "26    False     False   False    False      False  ...        False   \n",
      "27    False     False   False    False      False  ...        False   \n",
      "28    False     False   False    False      False  ...        False   \n",
      "29    False     False   False    False      False  ...        False   \n",
      "30    False     False   False    False      False  ...        False   \n",
      "31    False     False   False    False      False  ...        False   \n",
      "32    False     False   False    False      False  ...        False   \n",
      "33    False     False   False    False      False  ...        False   \n",
      "34    False     False   False    False      False  ...        False   \n",
      "35    False     False   False    False      False  ...        False   \n",
      "\n",
      "    tablajero  tapicero_autos  tapicero_muebles  trabajador_hogar  \\\n",
      "0       False           False             False             False   \n",
      "1       False           False             False             False   \n",
      "2       False           False             False             False   \n",
      "3       False           False             False             False   \n",
      "4       False           False             False             False   \n",
      "5       False           False             False             False   \n",
      "6       False           False             False             False   \n",
      "7       False           False             False             False   \n",
      "8       False           False             False             False   \n",
      "9       False           False             False             False   \n",
      "10      False           False             False             False   \n",
      "11      False           False             False             False   \n",
      "12      False           False             False             False   \n",
      "13      False           False             False             False   \n",
      "14      False           False             False             False   \n",
      "15      False           False             False             False   \n",
      "16      False           False             False             False   \n",
      "17      False           False             False             False   \n",
      "18      False           False             False             False   \n",
      "19      False           False             False             False   \n",
      "20      False           False             False             False   \n",
      "21      False           False             False             False   \n",
      "22      False           False             False             False   \n",
      "23      False           False             False             False   \n",
      "24      False           False             False             False   \n",
      "25      False           False             False             False   \n",
      "26      False           False             False             False   \n",
      "27      False           False             False             False   \n",
      "28      False           False             False             False   \n",
      "29      False           False             False             False   \n",
      "30      False           False             False             False   \n",
      "31      False           False             False             False   \n",
      "32      False           False             False             False   \n",
      "33      False           False             False             False   \n",
      "34      False           False             False             False   \n",
      "35      False           False             False             False   \n",
      "\n",
      "    trabajador_social  vaquero  velador  vendedor_piso  zapatero  \n",
      "0               False    False    False          False     False  \n",
      "1               False    False    False          False     False  \n",
      "2               False    False    False          False     False  \n",
      "3               False    False    False          False     False  \n",
      "4               False    False    False          False     False  \n",
      "5               False    False    False          False     False  \n",
      "6               False    False    False          False     False  \n",
      "7               False    False    False          False     False  \n",
      "8               False    False    False          False     False  \n",
      "9               False    False    False          False     False  \n",
      "10              False    False    False          False     False  \n",
      "11              False    False    False          False     False  \n",
      "12              False    False    False          False     False  \n",
      "13              False    False    False          False     False  \n",
      "14              False    False    False          False     False  \n",
      "15              False    False    False          False     False  \n",
      "16              False    False    False          False     False  \n",
      "17              False    False    False          False     False  \n",
      "18              False    False    False          False     False  \n",
      "19              False    False    False          False     False  \n",
      "20              False    False    False          False     False  \n",
      "21              False    False    False          False     False  \n",
      "22              False    False    False          False     False  \n",
      "23              False    False    False          False     False  \n",
      "24              False    False    False          False     False  \n",
      "25              False    False    False          False     False  \n",
      "26              False    False    False          False     False  \n",
      "27              False    False    False          False     False  \n",
      "28              False    False    False          False     False  \n",
      "29              False    False    False          False     False  \n",
      "30              False    False    False          False     False  \n",
      "31              False    False    False          False     False  \n",
      "32              False    False    False          False     False  \n",
      "33              False    False    False          False     False  \n",
      "34              False    False    False          False     False  \n",
      "35              False    False    False          False     False  \n",
      "\n",
      "[36 rows x 89 columns]\n"
     ]
    }
   ],
   "source": [
    "#Confirmamos que no hayan datos nulos.\n",
    "datos_nulos = salarios.isnull()\n",
    "print(datos_nulos) "
   ]
  },
  {
   "cell_type": "code",
   "execution_count": 196,
   "id": "b3430187-80fa-40fb-a910-4a2f05ceb767",
   "metadata": {},
   "outputs": [
    {
     "name": "stdout",
     "output_type": "stream",
     "text": [
      "   inicio_vigencia          zona  salario_minimo_general  albanileria  \\\n",
      "0       01/01/2009             a                   54.80        79.87   \n",
      "1       01/01/2009             b                   53.26        77.81   \n",
      "2       01/01/2009             c                   51.95        75.71   \n",
      "3       01/01/2010             a                   57.46        83.74   \n",
      "4       01/01/2010             b                   55.84        81.58   \n",
      "5       01/01/2010             c                   54.47        79.38   \n",
      "6       01/01/2011             a                   59.82        87.17   \n",
      "7       01/01/2011             b                   58.13        84.92   \n",
      "8       01/01/2011             c                   56.70        82.63   \n",
      "9       01/01/2012             a                   62.33        90.83   \n",
      "10      01/01/2012             b                   60.57        88.49   \n",
      "11      01/01/2012             c                   59.08        86.10   \n",
      "12      27/11/2012             a                   62.33        90.83   \n",
      "13      27/11/2012             b                   59.08        86.10   \n",
      "14      01/01/2013             a                   64.76        94.37   \n",
      "15      01/01/2013             b                   61.38        89.46   \n",
      "16      01/01/2014             a                   67.29        98.05   \n",
      "17      01/01/2014             b                   63.77        92.95   \n",
      "18      01/01/2015             a                   70.10       102.20   \n",
      "19      01/01/2015             b                   66.45        96.85   \n",
      "20      01/04/2015             a                   70.10       102.20   \n",
      "21      01/04/2015             b                   68.28        99.51   \n",
      "22      01/10/2015         unica                   70.10       102.20   \n",
      "23      01/01/2016         unica                   73.04       106.49   \n",
      "24      01/01/2017         unica                   80.04       110.64   \n",
      "25      01/12/2017         unica                   88.36       114.95   \n",
      "26      01/01/2019  restodelpais                  102.68       120.70   \n",
      "27      01/01/2019          zlfn                  176.72       176.72   \n",
      "28      01/01/2020  restodelpais                  123.22       142.14   \n",
      "29      01/01/2020          zlfn                  185.56       185.56   \n",
      "30      01/01/2021  restodelpais                  141.70       163.46   \n",
      "31      01/01/2021          zlfn                  213.39       213.39   \n",
      "32      01/01/2022  restodelpais                  172.87       199.42   \n",
      "33      01/01/2022          zlfn                  260.34       260.34   \n",
      "34      01/01/2023  restodelpais                  207.44       239.31   \n",
      "35      01/01/2023          zlfn                  312.41       312.41   \n",
      "\n",
      "    archivista  boticas  buldozer  cajero  cajista  cantinero  ...  \\\n",
      "0        76.35    69.50     84.13   70.84    75.41      72.49  ...   \n",
      "1        74.29    67.65     81.74   69.11    73.52      70.53  ...   \n",
      "2        72.24    65.94     79.61   67.35    71.42      68.70  ...   \n",
      "3        74.29    72.87     88.21   74.28    79.07      76.01  ...   \n",
      "4        74.29    70.93     85.70   72.46    77.09      73.95  ...   \n",
      "5        74.29    69.14     83.47   70.62    74.88      72.03  ...   \n",
      "6        74.29    75.86     91.83   77.33    82.31      79.13  ...   \n",
      "7        74.29    73.84     89.21   75.43    80.25      76.98  ...   \n",
      "8        74.29    71.97     86.89   73.52    77.95      74.98  ...   \n",
      "9        74.29    79.05     95.69   80.58    85.77      82.45  ...   \n",
      "10       74.29    76.94     92.96   78.60    83.62      80.21  ...   \n",
      "11       74.29    74.99     90.54   76.61    81.22      78.13  ...   \n",
      "12       74.29    79.05     95.69   80.58    85.77      82.45  ...   \n",
      "13       74.29    74.99     90.54   76.61    81.22      78.13  ...   \n",
      "14       74.29    82.13     99.42   83.72    89.12      85.67  ...   \n",
      "15       74.29    77.91     94.07   79.60    84.39      81.18  ...   \n",
      "16       74.29    85.33    103.30   86.99    80.19      89.01  ...   \n",
      "17       74.29    80.95     97.74   82.70    80.19      84.35  ...   \n",
      "18       74.29    88.90    107.65   90.65    80.19      92.75  ...   \n",
      "19       74.29    84.35    101.85   86.20    80.19      87.90  ...   \n",
      "20       74.29    88.90    107.65   90.65    80.19      92.75  ...   \n",
      "21       74.29    86.67    104.65   88.57    80.19      90.31  ...   \n",
      "22       74.29    88.90    107.65   90.65    80.19      92.75  ...   \n",
      "23       74.29    92.63    112.17   94.46    80.19      96.65  ...   \n",
      "24       74.29    96.24    116.54   98.14    80.19     100.42  ...   \n",
      "25       74.29    99.99    121.09  101.97    80.19     104.34  ...   \n",
      "26       74.29   104.99    127.14  107.07    80.19     109.56  ...   \n",
      "27       74.29   176.72    176.72  176.72    80.19     176.72  ...   \n",
      "28       74.29   125.64    148.90  127.83    80.19     130.44  ...   \n",
      "29       74.29   185.56    185.56  185.56    80.19     185.56  ...   \n",
      "30       74.29   144.49    171.24  147.00    80.19     150.01  ...   \n",
      "31       74.29   213.39    213.39  213.39    80.19     213.39  ...   \n",
      "32       74.29   176.28    208.91  179.34    80.19     183.01  ...   \n",
      "33       74.29   260.34    260.34  260.34    80.19     260.34  ...   \n",
      "34       74.29   211.53    250.70  215.21    80.19     219.61  ...   \n",
      "35       74.29   312.41    312.41  312.41    80.19     312.41  ...   \n",
      "\n",
      "    talabartero  tablajero  tapicero_autos  tapicero_muebles  \\\n",
      "0         74.47      74.47           75.76             75.76   \n",
      "1         72.47      72.47           73.93             73.93   \n",
      "2         70.46      70.46           71.88             71.88   \n",
      "3         78.08      78.08           79.43             79.43   \n",
      "4         75.98      75.98           77.52             77.52   \n",
      "5         73.88      73.88           75.37             75.37   \n",
      "6         81.28      81.28           82.69             82.69   \n",
      "7         79.10      79.10           80.70             80.70   \n",
      "8         76.91      76.91           78.46             78.46   \n",
      "9         75.85      84.69           86.16             86.16   \n",
      "10        75.85      82.42           84.09             84.09   \n",
      "11        75.85      80.14           81.76             81.76   \n",
      "12        75.85      84.69           86.16             86.16   \n",
      "13        75.85      80.14           81.76             81.76   \n",
      "14        75.85      87.99           89.52             89.52   \n",
      "15        75.85      83.27           84.95             84.95   \n",
      "16        75.85      91.42           93.01             93.01   \n",
      "17        75.85      86.52           88.26             88.26   \n",
      "18        75.85      95.25           96.90             96.90   \n",
      "19        75.85      90.15           92.00             92.00   \n",
      "20        75.85      95.25           96.90             96.90   \n",
      "21        75.85      92.63           94.53             94.53   \n",
      "22        75.85      95.25           96.90             96.90   \n",
      "23        75.85      99.25          100.97            100.97   \n",
      "24        75.85     103.12          104.91            104.91   \n",
      "25        75.85     107.14          109.00            109.00   \n",
      "26        75.85     112.50          114.45            114.45   \n",
      "27        75.85     176.72          176.72            176.72   \n",
      "28        75.85     133.53          135.58            135.58   \n",
      "29        75.85     185.56          185.56            185.56   \n",
      "30        75.85     153.56          155.92            155.92   \n",
      "31        75.85     213.39          213.39            213.39   \n",
      "32        75.85     187.34          190.22            190.22   \n",
      "33        75.85     260.34          260.34            260.34   \n",
      "34        75.85     224.81          228.27            228.27   \n",
      "35        75.85     312.41          312.41            312.41   \n",
      "\n",
      "    trabajador_hogar  trabajador_social  vaquero  velador  vendedor_piso  \\\n",
      "0             225.60              90.34    69.27    70.73          72.84   \n",
      "1             225.60              87.84    67.47    68.70          70.99   \n",
      "2             225.60              85.56    65.34    67.17          68.99   \n",
      "3             225.60              94.72    72.63    74.16          76.37   \n",
      "4             225.60              92.10    70.74    72.03          74.43   \n",
      "5             225.60              89.71    68.51    70.43          72.34   \n",
      "6             225.60              98.60    75.61    77.20          79.50   \n",
      "7             225.60              95.88    73.64    74.98          77.48   \n",
      "8             225.60              93.39    71.32    73.32          75.31   \n",
      "9             225.60             102.74    78.79    80.44          82.84   \n",
      "10            225.60              99.91    76.73    78.13          80.73   \n",
      "11            225.60              97.31    74.32    76.40          78.47   \n",
      "12            225.60             102.74    78.79    80.44          82.84   \n",
      "13            225.60              97.31    74.32    76.40          78.47   \n",
      "14            225.60             106.75    81.86    83.58          86.07   \n",
      "15            225.60             101.11    77.22    79.38          81.53   \n",
      "16            225.60             110.91    85.05    86.84          89.43   \n",
      "17            225.60             105.05    80.23    82.48          84.71   \n",
      "18            225.60             115.55    88.60    90.50          93.20   \n",
      "19            225.60             109.45    83.60    85.95          88.25   \n",
      "20            225.60             115.55    88.60    90.50          91.20   \n",
      "21            225.60             112.46    85.90    88.31          90.67   \n",
      "22            225.60             115.55    88.60    90.50          93.20   \n",
      "23            225.60             120.40    92.32    94.30          97.11   \n",
      "24            225.60             125.10    95.92    97.98         100.90   \n",
      "25            225.60             129.98    99.60   101.80         104.84   \n",
      "26            225.60             136.48   104.64   106.89         110.08   \n",
      "27            225.60             176.72   176.72   176.72         176.72   \n",
      "28            225.60             158.71   125.28   127.64         130.99   \n",
      "29            225.60             185.56   185.56   185.56         185.56   \n",
      "30            154.03             182.52   144.07   146.79         150.64   \n",
      "31            213.39             213.39   213.39   213.39         213.39   \n",
      "32            187.92             222.67   175.77   179.08         183.78   \n",
      "33            260.34             260.34   260.34   260.34         260.34   \n",
      "34            225.50             267.21   210.92   214.90         220.54   \n",
      "35            312.41             312.41   312.41   312.41         312.41   \n",
      "\n",
      "    zapatero  \n",
      "0      71.72  \n",
      "1      69.94  \n",
      "2      68.11  \n",
      "3      75.20  \n",
      "4      73.33  \n",
      "5      71.41  \n",
      "6      78.28  \n",
      "7      76.34  \n",
      "8      74.34  \n",
      "9      81.57  \n",
      "10     79.55  \n",
      "11     77.46  \n",
      "12     81.57  \n",
      "13     77.46  \n",
      "14     84.75  \n",
      "15     80.48  \n",
      "16     88.06  \n",
      "17     83.62  \n",
      "18     91.75  \n",
      "19     87.10  \n",
      "20     91.75  \n",
      "21     89.49  \n",
      "22     91.75  \n",
      "23     95.60  \n",
      "24     99.33  \n",
      "25    103.20  \n",
      "26    108.36  \n",
      "27    176.72  \n",
      "28    129.18  \n",
      "29    185.56  \n",
      "30    148.56  \n",
      "31    213.39  \n",
      "32    181.24  \n",
      "33    260.34  \n",
      "34    217.49  \n",
      "35    312.41  \n",
      "\n",
      "[36 rows x 89 columns]\n"
     ]
    }
   ],
   "source": [
    "salarios_redondeado = salarios.round(2)\n",
    "print(salarios_redondeado)"
   ]
  },
  {
   "cell_type": "code",
   "execution_count": 197,
   "id": "4eb46e6d-e3ed-472b-bf5b-932d5716d668",
   "metadata": {},
   "outputs": [],
   "source": [
    "salarios_redondeado.to_csv('Datos.csv', index=False)"
   ]
  }
 ],
 "metadata": {
  "kernelspec": {
   "display_name": "Python 3 (ipykernel)",
   "language": "python",
   "name": "python3"
  },
  "language_info": {
   "codemirror_mode": {
    "name": "ipython",
    "version": 3
   },
   "file_extension": ".py",
   "mimetype": "text/x-python",
   "name": "python",
   "nbconvert_exporter": "python",
   "pygments_lexer": "ipython3",
   "version": "3.10.9"
  }
 },
 "nbformat": 4,
 "nbformat_minor": 5
}
