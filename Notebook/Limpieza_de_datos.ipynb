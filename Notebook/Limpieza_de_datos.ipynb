{
 "cells": [
  {
   "cell_type": "markdown",
   "id": "1723de3e-27d5-431b-b186-41f850703f08",
   "metadata": {},
   "source": [
    "<h2><font color=\"#1D4089\" size=8>Análisis exploratorio sobre diversos salarios mínimos en México.</font><h2>\n",
    "    \n",
    "<br><br>\n",
    "<div sytle=\"text-align: right\">\n",
    "<font color=\"#1D4089\" size=3>Jaime Alberto Suarez Moctezuma</font><br>\n",
    "<font color=\"#1D4089\" size=3>Analisis exploratorio inicial de los salarios mínimos</font><br>"
   ]
  },
  {
   "cell_type": "markdown",
   "id": "54fc7ace-5455-4d93-95f6-fcd50d0182c6",
   "metadata": {},
   "source": [
    "<h2><font color=\"#1D4089\" size=5>Explorando los datos...</font><h2> "
   ]
  },
  {
   "cell_type": "markdown",
   "id": "e3ee0365-e90c-49b3-b9ed-d16b7ab9c270",
   "metadata": {},
   "source": [
    "En esta primera sección se ubican las funciones básicas para la carga de los datos que se utilizan para este proyecto."
   ]
  },
  {
   "cell_type": "markdown",
   "id": "892ea455-d8ff-4e12-bedb-f87217e6a6ab",
   "metadata": {},
   "source": [
    "El conjunto de datos empleados para este proyecto fueron extraídos de la página [\"Datos abiertos de México: Salario mínimo 2023\"](https://datos.gob.mx/busca/dataset/salario-minimo-2023) de datos.gob, los cuales se encuentran como [\"Salarios Mínimos Generales y Profesionales 2009-2023 Zonas\"](https://datos.gob.mx/busca/dataset/salario-minimo-2023/resource/89f07954-6ccd-4f97-8fb4-c644573e9f92)."
   ]
  },
  {
   "cell_type": "markdown",
   "id": "3dea596e-fcbb-462e-a24d-a61b1a5184ce",
   "metadata": {},
   "source": [
    "<h1><font color=\"#1D4089\" size=5>Carga del conjunto de datos</font><h1> "
   ]
  },
  {
   "cell_type": "markdown",
   "id": "27498876-f252-4666-9958-aa451494cb7c",
   "metadata": {},
   "source": [
    "Vamos a emplear los datos descargados en la sección de \"Explorando los datos\"."
   ]
  },
  {
   "cell_type": "code",
   "execution_count": 289,
   "id": "65ed3900-1df0-4b3e-a42d-fdf407d1b65c",
   "metadata": {},
   "outputs": [],
   "source": [
    "#Importamos las librerias necesarias\n",
    "import pandas as pd \n",
    "import numpy as np\n",
    "import matplotlib.pyplot as plt"
   ]
  },
  {
   "cell_type": "code",
   "execution_count": 290,
   "id": "61d3fab6-6f35-4b1a-b702-42e58c40bdbd",
   "metadata": {},
   "outputs": [],
   "source": [
    "#Lectura de datos en Python. \n",
    "salarios = pd.read_csv(\"C:/Users/suare/Downloads/Salarios_Minimos_Generales_y_Profesionales_2009_2023_Zonas.csv\") #Nos dirije al archivo. "
   ]
  },
  {
   "cell_type": "code",
   "execution_count": 291,
   "id": "4b0366bc-a49f-430e-af28-5dd97e0c0531",
   "metadata": {},
   "outputs": [
    {
     "data": {
      "text/html": [
       "<div>\n",
       "<style scoped>\n",
       "    .dataframe tbody tr th:only-of-type {\n",
       "        vertical-align: middle;\n",
       "    }\n",
       "\n",
       "    .dataframe tbody tr th {\n",
       "        vertical-align: top;\n",
       "    }\n",
       "\n",
       "    .dataframe thead th {\n",
       "        text-align: right;\n",
       "    }\n",
       "</style>\n",
       "<table border=\"1\" class=\"dataframe\">\n",
       "  <thead>\n",
       "    <tr style=\"text-align: right;\">\n",
       "      <th></th>\n",
       "      <th>inicio_vigencia</th>\n",
       "      <th>zona</th>\n",
       "      <th>salario_minimo_general</th>\n",
       "      <th>albanileria</th>\n",
       "      <th>archivista</th>\n",
       "      <th>boticas</th>\n",
       "      <th>buldozer</th>\n",
       "      <th>cajero</th>\n",
       "      <th>cajista</th>\n",
       "      <th>cantinero</th>\n",
       "      <th>...</th>\n",
       "      <th>talabartero</th>\n",
       "      <th>tablajero</th>\n",
       "      <th>tapicero_autos</th>\n",
       "      <th>tapicero_muebles</th>\n",
       "      <th>trabajador_hogar</th>\n",
       "      <th>trabajador_social</th>\n",
       "      <th>vaquero</th>\n",
       "      <th>velador</th>\n",
       "      <th>vendedor_piso</th>\n",
       "      <th>zapatero</th>\n",
       "    </tr>\n",
       "  </thead>\n",
       "  <tbody>\n",
       "    <tr>\n",
       "      <th>0</th>\n",
       "      <td>01/01/2009</td>\n",
       "      <td>a</td>\n",
       "      <td>54.80</td>\n",
       "      <td>79.87</td>\n",
       "      <td>76.35</td>\n",
       "      <td>69.50</td>\n",
       "      <td>84.13</td>\n",
       "      <td>70.84</td>\n",
       "      <td>75.41</td>\n",
       "      <td>72.49</td>\n",
       "      <td>...</td>\n",
       "      <td>74.47</td>\n",
       "      <td>74.47</td>\n",
       "      <td>75.76</td>\n",
       "      <td>75.76</td>\n",
       "      <td>NaN</td>\n",
       "      <td>90.34</td>\n",
       "      <td>69.27</td>\n",
       "      <td>70.73</td>\n",
       "      <td>72.84</td>\n",
       "      <td>71.72</td>\n",
       "    </tr>\n",
       "    <tr>\n",
       "      <th>1</th>\n",
       "      <td>01/01/2009</td>\n",
       "      <td>b</td>\n",
       "      <td>53.26</td>\n",
       "      <td>77.81</td>\n",
       "      <td>74.29</td>\n",
       "      <td>67.65</td>\n",
       "      <td>81.74</td>\n",
       "      <td>69.11</td>\n",
       "      <td>73.52</td>\n",
       "      <td>70.53</td>\n",
       "      <td>...</td>\n",
       "      <td>72.47</td>\n",
       "      <td>72.47</td>\n",
       "      <td>73.93</td>\n",
       "      <td>73.93</td>\n",
       "      <td>NaN</td>\n",
       "      <td>87.84</td>\n",
       "      <td>67.47</td>\n",
       "      <td>68.70</td>\n",
       "      <td>70.99</td>\n",
       "      <td>69.94</td>\n",
       "    </tr>\n",
       "    <tr>\n",
       "      <th>2</th>\n",
       "      <td>01/01/2009</td>\n",
       "      <td>c</td>\n",
       "      <td>51.95</td>\n",
       "      <td>75.71</td>\n",
       "      <td>72.24</td>\n",
       "      <td>65.94</td>\n",
       "      <td>79.61</td>\n",
       "      <td>67.35</td>\n",
       "      <td>71.42</td>\n",
       "      <td>68.70</td>\n",
       "      <td>...</td>\n",
       "      <td>70.46</td>\n",
       "      <td>70.46</td>\n",
       "      <td>71.88</td>\n",
       "      <td>71.88</td>\n",
       "      <td>NaN</td>\n",
       "      <td>85.56</td>\n",
       "      <td>65.34</td>\n",
       "      <td>67.17</td>\n",
       "      <td>68.99</td>\n",
       "      <td>68.11</td>\n",
       "    </tr>\n",
       "    <tr>\n",
       "      <th>3</th>\n",
       "      <td>01/01/2010</td>\n",
       "      <td>a</td>\n",
       "      <td>57.46</td>\n",
       "      <td>83.74</td>\n",
       "      <td>NaN</td>\n",
       "      <td>72.87</td>\n",
       "      <td>88.21</td>\n",
       "      <td>74.28</td>\n",
       "      <td>79.07</td>\n",
       "      <td>76.01</td>\n",
       "      <td>...</td>\n",
       "      <td>78.08</td>\n",
       "      <td>78.08</td>\n",
       "      <td>79.43</td>\n",
       "      <td>79.43</td>\n",
       "      <td>NaN</td>\n",
       "      <td>94.72</td>\n",
       "      <td>72.63</td>\n",
       "      <td>74.16</td>\n",
       "      <td>76.37</td>\n",
       "      <td>75.20</td>\n",
       "    </tr>\n",
       "    <tr>\n",
       "      <th>4</th>\n",
       "      <td>01/01/2010</td>\n",
       "      <td>b</td>\n",
       "      <td>55.84</td>\n",
       "      <td>81.58</td>\n",
       "      <td>NaN</td>\n",
       "      <td>70.93</td>\n",
       "      <td>85.70</td>\n",
       "      <td>72.46</td>\n",
       "      <td>77.09</td>\n",
       "      <td>73.95</td>\n",
       "      <td>...</td>\n",
       "      <td>75.98</td>\n",
       "      <td>75.98</td>\n",
       "      <td>77.52</td>\n",
       "      <td>77.52</td>\n",
       "      <td>NaN</td>\n",
       "      <td>92.10</td>\n",
       "      <td>70.74</td>\n",
       "      <td>72.03</td>\n",
       "      <td>74.43</td>\n",
       "      <td>73.33</td>\n",
       "    </tr>\n",
       "  </tbody>\n",
       "</table>\n",
       "<p>5 rows × 89 columns</p>\n",
       "</div>"
      ],
      "text/plain": [
       "  inicio_vigencia zona  salario_minimo_general  albanileria  archivista  \\\n",
       "0      01/01/2009    a                   54.80        79.87       76.35   \n",
       "1      01/01/2009    b                   53.26        77.81       74.29   \n",
       "2      01/01/2009    c                   51.95        75.71       72.24   \n",
       "3      01/01/2010    a                   57.46        83.74         NaN   \n",
       "4      01/01/2010    b                   55.84        81.58         NaN   \n",
       "\n",
       "   boticas  buldozer  cajero  cajista  cantinero  ...  talabartero  tablajero  \\\n",
       "0    69.50     84.13   70.84    75.41      72.49  ...        74.47      74.47   \n",
       "1    67.65     81.74   69.11    73.52      70.53  ...        72.47      72.47   \n",
       "2    65.94     79.61   67.35    71.42      68.70  ...        70.46      70.46   \n",
       "3    72.87     88.21   74.28    79.07      76.01  ...        78.08      78.08   \n",
       "4    70.93     85.70   72.46    77.09      73.95  ...        75.98      75.98   \n",
       "\n",
       "   tapicero_autos  tapicero_muebles  trabajador_hogar  trabajador_social  \\\n",
       "0           75.76             75.76               NaN              90.34   \n",
       "1           73.93             73.93               NaN              87.84   \n",
       "2           71.88             71.88               NaN              85.56   \n",
       "3           79.43             79.43               NaN              94.72   \n",
       "4           77.52             77.52               NaN              92.10   \n",
       "\n",
       "   vaquero  velador  vendedor_piso  zapatero  \n",
       "0    69.27    70.73          72.84     71.72  \n",
       "1    67.47    68.70          70.99     69.94  \n",
       "2    65.34    67.17          68.99     68.11  \n",
       "3    72.63    74.16          76.37     75.20  \n",
       "4    70.74    72.03          74.43     73.33  \n",
       "\n",
       "[5 rows x 89 columns]"
      ]
     },
     "execution_count": 291,
     "metadata": {},
     "output_type": "execute_result"
    }
   ],
   "source": [
    "#Observamos la estructura de los datos.\n",
    "salarios.head()"
   ]
  },
  {
   "cell_type": "markdown",
   "id": "72780265-12ad-4b23-933d-67ced406963a",
   "metadata": {
    "tags": []
   },
   "source": [
    "<h1><font color=\"#1D4089\" size=5>Exploración de los datos</font><h1> "
   ]
  },
  {
   "cell_type": "code",
   "execution_count": 292,
   "id": "64e780a1-e887-4e14-8091-387d5e9e0644",
   "metadata": {},
   "outputs": [
    {
     "data": {
      "text/plain": [
       "Index(['inicio_vigencia', 'zona', 'salario_minimo_general', 'albanileria',\n",
       "       'archivista', 'boticas', 'buldozer', 'cajero', 'cajista', 'cantinero',\n",
       "       'carpintero_obra', 'carpintero_muebles', 'cepilladora', 'cocinero',\n",
       "       'colchones', 'mosaico', 'contador', 'yesero', 'fierrero',\n",
       "       'cortador_calzado', 'costurero_taller', 'costurero_domicilio',\n",
       "       'chofer_acomodador', 'chofer_camion', 'chofer_camioneta', 'chofer_grua',\n",
       "       'draga', 'ebanista', 'electricista_instalaciones', 'electricista_autos',\n",
       "       'electricista_motores', 'gondola', 'bodega', 'enfermero_auxiliar',\n",
       "       'ferreterias', 'fogonero', 'gasolinero', 'herreria', 'hojalateria',\n",
       "       'hornero', 'jornalero', 'joyero_oficial', 'joyero_domicilio',\n",
       "       'laboratorios', 'linotipista', 'lubricador', 'maestro', 'manejador',\n",
       "       'maquinaria_agricola', 'maquina_fundicion', 'maquina_troquelado',\n",
       "       'maquina_madera', 'maquina_plastico', 'mecanico_fresador',\n",
       "       'mecanico_rectificadora', 'mecanico_autos', 'mecanico_tornero',\n",
       "       'moldero', 'montador_calzado', 'niquelado', 'peinador', 'perforista',\n",
       "       'pintor_autos', 'pintor_casas', 'planchador', 'plomero',\n",
       "       'prensa_offset', 'prensista', 'radiotecnico_electrico', 'recamarero',\n",
       "       'recepcionista', 'refaccionaria_autos', 'reparador_hogar', 'reportero',\n",
       "       'reportero_grafico', 'repostero', 'sastreria_domicilio', 'secretaria',\n",
       "       'soldador_soplete', 'talabartero', 'tablajero', 'tapicero_autos',\n",
       "       'tapicero_muebles', 'trabajador_hogar', 'trabajador_social', 'vaquero',\n",
       "       'velador', 'vendedor_piso', 'zapatero'],\n",
       "      dtype='object')"
      ]
     },
     "execution_count": 292,
     "metadata": {},
     "output_type": "execute_result"
    }
   ],
   "source": [
    "#Visualizamos las columnas de los datos \n",
    "salarios.columns"
   ]
  },
  {
   "cell_type": "code",
   "execution_count": 293,
   "id": "3c669a7a-7476-4f86-826f-923c562965d7",
   "metadata": {
    "tags": []
   },
   "outputs": [
    {
     "name": "stdout",
     "output_type": "stream",
     "text": [
      "<class 'pandas.core.frame.DataFrame'>\n",
      "RangeIndex: 36 entries, 0 to 35\n",
      "Data columns (total 89 columns):\n",
      " #   Column                      Non-Null Count  Dtype  \n",
      "---  ------                      --------------  -----  \n",
      " 0   inicio_vigencia             36 non-null     object \n",
      " 1   zona                        36 non-null     object \n",
      " 2   salario_minimo_general      36 non-null     float64\n",
      " 3   albanileria                 36 non-null     float64\n",
      " 4   archivista                  3 non-null      float64\n",
      " 5   boticas                     36 non-null     float64\n",
      " 6   buldozer                    36 non-null     float64\n",
      " 7   cajero                      36 non-null     float64\n",
      " 8   cajista                     16 non-null     float64\n",
      " 9   cantinero                   36 non-null     float64\n",
      " 10  carpintero_obra             23 non-null     float64\n",
      " 11  carpintero_muebles          36 non-null     float64\n",
      " 12  cepilladora                 3 non-null      float64\n",
      " 13  cocinero                    36 non-null     float64\n",
      " 14  colchones                   36 non-null     float64\n",
      " 15  mosaico                     36 non-null     float64\n",
      " 16  contador                    3 non-null      float64\n",
      " 17  yesero                      36 non-null     float64\n",
      " 18  fierrero                    3 non-null      float64\n",
      " 19  cortador_calzado            36 non-null     float64\n",
      " 20  costurero_taller            36 non-null     float64\n",
      " 21  costurero_domicilio         36 non-null     float64\n",
      " 22  chofer_acomodador           36 non-null     float64\n",
      " 23  chofer_camion               36 non-null     float64\n",
      " 24  chofer_camioneta            36 non-null     float64\n",
      " 25  chofer_grua                 36 non-null     float64\n",
      " 26  draga                       36 non-null     float64\n",
      " 27  ebanista                    36 non-null     float64\n",
      " 28  electricista_instalaciones  36 non-null     float64\n",
      " 29  electricista_autos          36 non-null     float64\n",
      " 30  electricista_motores        36 non-null     float64\n",
      " 31  gondola                     36 non-null     float64\n",
      " 32  bodega                      36 non-null     float64\n",
      " 33  enfermero_auxiliar          16 non-null     float64\n",
      " 34  ferreterias                 36 non-null     float64\n",
      " 35  fogonero                    36 non-null     float64\n",
      " 36  gasolinero                  36 non-null     float64\n",
      " 37  herreria                    36 non-null     float64\n",
      " 38  hojalateria                 36 non-null     float64\n",
      " 39  hornero                     9 non-null      float64\n",
      " 40  jornalero                   6 non-null      float64\n",
      " 41  joyero_oficial              16 non-null     float64\n",
      " 42  joyero_domicilio            16 non-null     float64\n",
      " 43  laboratorios                3 non-null      float64\n",
      " 44  linotipista                 16 non-null     float64\n",
      " 45  lubricador                  36 non-null     float64\n",
      " 46  maestro                     16 non-null     float64\n",
      " 47  manejador                   36 non-null     float64\n",
      " 48  maquinaria_agricola         36 non-null     float64\n",
      " 49  maquina_fundicion           3 non-null      float64\n",
      " 50  maquina_troquelado          3 non-null      float64\n",
      " 51  maquina_madera              36 non-null     float64\n",
      " 52  maquina_plastico            3 non-null      float64\n",
      " 53  mecanico_fresador           3 non-null      float64\n",
      " 54  mecanico_rectificadora      3 non-null      float64\n",
      " 55  mecanico_autos              36 non-null     float64\n",
      " 56  mecanico_tornero            14 non-null     float64\n",
      " 57  moldero                     14 non-null     float64\n",
      " 58  montador_calzado            36 non-null     float64\n",
      " 59  niquelado                   14 non-null     float64\n",
      " 60  peinador                    36 non-null     float64\n",
      " 61  perforista                  16 non-null     float64\n",
      " 62  pintor_autos                36 non-null     float64\n",
      " 63  pintor_casas                36 non-null     float64\n",
      " 64  planchador                  36 non-null     float64\n",
      " 65  plomero                     36 non-null     float64\n",
      " 66  prensa_offset               16 non-null     float64\n",
      " 67  prensista                   16 non-null     float64\n",
      " 68  radiotecnico_electrico      36 non-null     float64\n",
      " 69  recamarero                  36 non-null     float64\n",
      " 70  recepcionista               6 non-null      float64\n",
      " 71  refaccionaria_autos         36 non-null     float64\n",
      " 72  reparador_hogar             36 non-null     float64\n",
      " 73  reportero                   36 non-null     float64\n",
      " 74  reportero_grafico           36 non-null     float64\n",
      " 75  repostero                   36 non-null     float64\n",
      " 76  sastreria_domicilio         36 non-null     float64\n",
      " 77  secretaria                  36 non-null     float64\n",
      " 78  soldador_soplete            36 non-null     float64\n",
      " 79  talabartero                 9 non-null      float64\n",
      " 80  tablajero                   36 non-null     float64\n",
      " 81  tapicero_autos              36 non-null     float64\n",
      " 82  tapicero_muebles            36 non-null     float64\n",
      " 83  trabajador_hogar            6 non-null      float64\n",
      " 84  trabajador_social           36 non-null     float64\n",
      " 85  vaquero                     36 non-null     float64\n",
      " 86  velador                     36 non-null     float64\n",
      " 87  vendedor_piso               36 non-null     float64\n",
      " 88  zapatero                    36 non-null     float64\n",
      "dtypes: float64(87), object(2)\n",
      "memory usage: 25.2+ KB\n"
     ]
    }
   ],
   "source": [
    "#Reafirmamos la información del conjunto de datos.\n",
    "salarios.info()"
   ]
  },
  {
   "cell_type": "markdown",
   "id": "0648b73d-655c-4d51-8c39-62e8913e6c93",
   "metadata": {},
   "source": [
    "<h1><font color=\"#1D4089\" size=5>Tratamiento de los datos</font><h1>"
   ]
  },
  {
   "cell_type": "markdown",
   "id": "78fdd119-5f9e-4423-bb00-76f966443f27",
   "metadata": {},
   "source": [
    "Primero eliminamos los campos vacios (cantidades) que se encuentran en todo el conjunto de datos."
   ]
  },
  {
   "cell_type": "code",
   "execution_count": 294,
   "id": "daea3760-07b4-47c3-8492-545d72b56e83",
   "metadata": {},
   "outputs": [
    {
     "name": "stdout",
     "output_type": "stream",
     "text": [
      "74.29333333333334\n"
     ]
    }
   ],
   "source": [
    "#Sacamos el promedio de la columna archivista\n",
    "promedio_archivista = salarios['archivista'].mean()\n",
    "print (promedio_archivista)"
   ]
  },
  {
   "cell_type": "code",
   "execution_count": 295,
   "id": "0e561e8b-3096-4ea9-8a47-839dee89c368",
   "metadata": {},
   "outputs": [
    {
     "name": "stdout",
     "output_type": "stream",
     "text": [
      "0     76.350000\n",
      "1     74.290000\n",
      "2     72.240000\n",
      "3     74.293333\n",
      "4     74.293333\n",
      "5     74.293333\n",
      "6     74.293333\n",
      "7     74.293333\n",
      "8     74.293333\n",
      "9     74.293333\n",
      "10    74.293333\n",
      "11    74.293333\n",
      "12    74.293333\n",
      "13    74.293333\n",
      "14    74.293333\n",
      "15    74.293333\n",
      "16    74.293333\n",
      "17    74.293333\n",
      "18    74.293333\n",
      "19    74.293333\n",
      "20    74.293333\n",
      "21    74.293333\n",
      "22    74.293333\n",
      "23    74.293333\n",
      "24    74.293333\n",
      "25    74.293333\n",
      "26    74.293333\n",
      "27    74.293333\n",
      "28    74.293333\n",
      "29    74.293333\n",
      "30    74.293333\n",
      "31    74.293333\n",
      "32    74.293333\n",
      "33    74.293333\n",
      "34    74.293333\n",
      "35    74.293333\n",
      "Name: archivista, dtype: float64\n"
     ]
    }
   ],
   "source": [
    "#Agregamos los datos faltantes con el promedio de la variable\n",
    "salarios['archivista'] = salarios['archivista'].fillna(74.29333333333335)\n",
    "#Confirmamos que hayan sido cargados\n",
    "print(salarios['archivista']) "
   ]
  },
  {
   "cell_type": "code",
   "execution_count": 296,
   "id": "363e8944-280f-4c70-b298-3803c1a20f75",
   "metadata": {},
   "outputs": [
    {
     "name": "stdout",
     "output_type": "stream",
     "text": [
      "80.188125\n"
     ]
    }
   ],
   "source": [
    "promedio_cajista = salarios['cajista'].mean()\n",
    "print (promedio_cajista)"
   ]
  },
  {
   "cell_type": "code",
   "execution_count": 297,
   "id": "3a1651f3-f5a3-4dd1-991c-51674e05c1dc",
   "metadata": {},
   "outputs": [],
   "source": [
    "salarios['cajista'] = salarios['cajista'].fillna(80.188125)"
   ]
  },
  {
   "cell_type": "code",
   "execution_count": 298,
   "id": "1ed637a2-a312-4327-9a18-e3bee9966498",
   "metadata": {},
   "outputs": [
    {
     "name": "stdout",
     "output_type": "stream",
     "text": [
      "141.60391304347826\n"
     ]
    }
   ],
   "source": [
    "promedio_co = salarios['carpintero_obra'].mean()\n",
    "print (promedio_co)"
   ]
  },
  {
   "cell_type": "code",
   "execution_count": 299,
   "id": "44e60be2-8e9d-41b4-a6fc-cac837c55bf4",
   "metadata": {},
   "outputs": [],
   "source": [
    "salarios['carpintero_obra'] = salarios ['carpintero_obra'].fillna(141.60391304347826)"
   ]
  },
  {
   "cell_type": "code",
   "execution_count": 300,
   "id": "529ec876-7230-4002-bb3b-859d3d6035c5",
   "metadata": {},
   "outputs": [
    {
     "name": "stdout",
     "output_type": "stream",
     "text": [
      "73.85666666666667\n"
     ]
    }
   ],
   "source": [
    "promedio_cepilladora = salarios['cepilladora'].mean()\n",
    "print (promedio_cepilladora)"
   ]
  },
  {
   "cell_type": "code",
   "execution_count": 301,
   "id": "a53f1e15-9993-4d57-9099-6fd2be4be01a",
   "metadata": {},
   "outputs": [],
   "source": [
    "salarios['cepilladora'] = salarios['cepilladora'].fillna(73.85666666666667)"
   ]
  },
  {
   "cell_type": "code",
   "execution_count": 302,
   "id": "5afd081e-9baf-4b6d-8631-b75e39a5f0da",
   "metadata": {},
   "outputs": [
    {
     "name": "stdout",
     "output_type": "stream",
     "text": [
      "74.89333333333333\n"
     ]
    }
   ],
   "source": [
    "promedio_contador = salarios['contador'].mean()\n",
    "print (promedio_contador)"
   ]
  },
  {
   "cell_type": "code",
   "execution_count": 303,
   "id": "86558be5-d457-42c0-8100-8afeb3cd5080",
   "metadata": {},
   "outputs": [],
   "source": [
    "salarios['contador'] = salarios['contador'].fillna(74.89333333333333)"
   ]
  },
  {
   "cell_type": "code",
   "execution_count": 304,
   "id": "7290a70a-ccae-4037-b854-df15b3bee114",
   "metadata": {},
   "outputs": [
    {
     "name": "stdout",
     "output_type": "stream",
     "text": [
      "75.56\n"
     ]
    }
   ],
   "source": [
    "promedio_fierrero = salarios['fierrero'].mean()\n",
    "print (promedio_fierrero)"
   ]
  },
  {
   "cell_type": "code",
   "execution_count": 305,
   "id": "de4ebab4-6f93-48ca-a162-04d00f8ca0c6",
   "metadata": {},
   "outputs": [],
   "source": [
    "salarios['fierrero'] = salarios['fierrero'].fillna(75.56)"
   ]
  },
  {
   "cell_type": "code",
   "execution_count": 306,
   "id": "acc616e9-bb01-4103-94ca-fcd9ffa95b7a",
   "metadata": {},
   "outputs": [
    {
     "name": "stdout",
     "output_type": "stream",
     "text": [
      "79.12312499999999\n"
     ]
    }
   ],
   "source": [
    "promedio_enfermeroaux = salarios['enfermero_auxiliar'].mean()\n",
    "print (promedio_enfermeroaux)"
   ]
  },
  {
   "cell_type": "code",
   "execution_count": 307,
   "id": "97bbfecc-690b-4a61-8887-9e8376b778df",
   "metadata": {},
   "outputs": [],
   "source": [
    "salarios['enfermero_auxiliar'] = salarios['enfermero_auxiliar'].fillna(79.12312499999999)"
   ]
  },
  {
   "cell_type": "code",
   "execution_count": 308,
   "id": "6c56997b-e997-4b42-b7fd-c143dc2aaf8f",
   "metadata": {},
   "outputs": [
    {
     "name": "stdout",
     "output_type": "stream",
     "text": [
      "81.9588888888889\n"
     ]
    }
   ],
   "source": [
    "promedio_hornero = salarios['hornero'].mean()\n",
    "print (promedio_hornero)"
   ]
  },
  {
   "cell_type": "code",
   "execution_count": 309,
   "id": "79575f38-cd1b-4835-8554-38935bcc30ac",
   "metadata": {},
   "outputs": [],
   "source": [
    "salarios['hornero'] = salarios['hornero'].fillna(81.9588888888889)"
   ]
  },
  {
   "cell_type": "code",
   "execution_count": 310,
   "id": "456792ca-2b82-423a-a7ac-051ffaf04415",
   "metadata": {},
   "outputs": [
    {
     "name": "stdout",
     "output_type": "stream",
     "text": [
      "229.38\n"
     ]
    }
   ],
   "source": [
    "promedio_jornalero = salarios['jornalero'].mean()\n",
    "print (promedio_jornalero)"
   ]
  },
  {
   "cell_type": "code",
   "execution_count": 311,
   "id": "330d74c9-e90b-4a88-87e1-6329f70b844c",
   "metadata": {},
   "outputs": [],
   "source": [
    "salarios['jornalero'] = salarios['jornalero'].fillna(229.38)"
   ]
  },
  {
   "cell_type": "code",
   "execution_count": 312,
   "id": "2e757263-53d2-46ea-88af-465b575435ae",
   "metadata": {},
   "outputs": [
    {
     "name": "stdout",
     "output_type": "stream",
     "text": [
      "79.12312499999999\n"
     ]
    }
   ],
   "source": [
    "promedio_joyeroof = salarios['joyero_oficial'].mean()\n",
    "print (promedio_joyeroof)"
   ]
  },
  {
   "cell_type": "code",
   "execution_count": 313,
   "id": "ec16a37d-a4e7-4eda-b8b9-1c8e33e53fcf",
   "metadata": {},
   "outputs": [],
   "source": [
    "salarios['joyero_oficial'] = salarios['joyero_oficial'].fillna(79.12312499999999)"
   ]
  },
  {
   "cell_type": "code",
   "execution_count": 314,
   "id": "6fd7600c-156b-44bc-8f5e-6344c2df18af",
   "metadata": {},
   "outputs": [
    {
     "name": "stdout",
     "output_type": "stream",
     "text": [
      "82.56\n"
     ]
    }
   ],
   "source": [
    "promedio_joyerodom = salarios['joyero_domicilio'].mean()\n",
    "print (promedio_joyerodom)"
   ]
  },
  {
   "cell_type": "code",
   "execution_count": 315,
   "id": "785c7a1c-c282-4e8a-8549-71c8516298a0",
   "metadata": {},
   "outputs": [],
   "source": [
    "salarios['joyero_domicilio'] = salarios['joyero_domicilio'].fillna(82.56)"
   ]
  },
  {
   "cell_type": "code",
   "execution_count": 316,
   "id": "2762f3e8-7696-4347-bb7e-c59daa4a9a5b",
   "metadata": {},
   "outputs": [
    {
     "name": "stdout",
     "output_type": "stream",
     "text": [
      "71.44666666666666\n"
     ]
    }
   ],
   "source": [
    "promedio_laboratorios = salarios['laboratorios'].mean()\n",
    "print (promedio_laboratorios)"
   ]
  },
  {
   "cell_type": "code",
   "execution_count": 317,
   "id": "f793e614-2112-4b89-875c-5c44e2890f66",
   "metadata": {},
   "outputs": [],
   "source": [
    "salarios['laboratorios'] = salarios['laboratorios'].fillna(71.44666666666666)"
   ]
  },
  {
   "cell_type": "code",
   "execution_count": 318,
   "id": "163ac031-5af2-4487-b937-a3bcab2a7441",
   "metadata": {},
   "outputs": [
    {
     "name": "stdout",
     "output_type": "stream",
     "text": [
      "88.173125\n"
     ]
    }
   ],
   "source": [
    "promedio_linotipista = salarios['linotipista'].mean()\n",
    "print (promedio_linotipista)"
   ]
  },
  {
   "cell_type": "code",
   "execution_count": 319,
   "id": "98983696-c62b-420a-a107-f8eb94bae1ea",
   "metadata": {},
   "outputs": [],
   "source": [
    "salarios['linotipista'] = salarios['linotipista'].fillna(88.173125)"
   ]
  },
  {
   "cell_type": "code",
   "execution_count": 320,
   "id": "a345e6fb-25a9-460b-bfdc-db5bf29c4de1",
   "metadata": {},
   "outputs": [
    {
     "name": "stdout",
     "output_type": "stream",
     "text": [
      "89.7425\n"
     ]
    }
   ],
   "source": [
    "promedio_maestro = salarios['maestro'].mean()\n",
    "print (promedio_maestro)"
   ]
  },
  {
   "cell_type": "code",
   "execution_count": 321,
   "id": "09b646a0-d264-4a80-b664-a123e29ec698",
   "metadata": {},
   "outputs": [],
   "source": [
    "salarios['maestro'] = salarios['maestro'].fillna(89.7425)"
   ]
  },
  {
   "cell_type": "code",
   "execution_count": 322,
   "id": "5057510a-2d1c-4696-8fff-ad8b25fec3b2",
   "metadata": {},
   "outputs": [
    {
     "name": "stdout",
     "output_type": "stream",
     "text": [
      "70.57333333333332\n"
     ]
    }
   ],
   "source": [
    "promedio_maquinafun = salarios['maquina_fundicion'].mean()\n",
    "print (promedio_maquinafun)"
   ]
  },
  {
   "cell_type": "code",
   "execution_count": 323,
   "id": "2d2b6379-07da-44ea-8a30-5e54bc5cb50b",
   "metadata": {},
   "outputs": [],
   "source": [
    "salarios['maquina_fundicion'] = salarios['maquina_fundicion'].fillna(70.57333333333332)"
   ]
  },
  {
   "cell_type": "code",
   "execution_count": 324,
   "id": "f0359552-f184-4fee-ba2d-b7071b75f63a",
   "metadata": {},
   "outputs": [
    {
     "name": "stdout",
     "output_type": "stream",
     "text": [
      "70.19666666666667\n"
     ]
    }
   ],
   "source": [
    "promedio_maquinatro = salarios['maquina_troquelado'].mean()\n",
    "print (promedio_maquinatro)"
   ]
  },
  {
   "cell_type": "code",
   "execution_count": 325,
   "id": "44cfec68-ceb0-4a50-8cdb-7c4b50839b59",
   "metadata": {},
   "outputs": [],
   "source": [
    "salarios['maquina_troquelado'] = salarios['maquina_troquelado'].fillna(70.19666666666667)"
   ]
  },
  {
   "cell_type": "code",
   "execution_count": 326,
   "id": "829a3eac-c3b9-4bf8-ae09-dc02bd27b7b5",
   "metadata": {},
   "outputs": [
    {
     "name": "stdout",
     "output_type": "stream",
     "text": [
      "68.86666666666667\n"
     ]
    }
   ],
   "source": [
    "promedio_maquinapla = salarios['maquina_plastico'].mean()\n",
    "print (promedio_maquinapla)"
   ]
  },
  {
   "cell_type": "code",
   "execution_count": 327,
   "id": "efacef1e-aff3-4e00-a6f1-431e58ece27e",
   "metadata": {},
   "outputs": [],
   "source": [
    "salarios['maquina_plastico'] = salarios['maquina_plastico'].fillna(68.86666666666667)"
   ]
  },
  {
   "cell_type": "code",
   "execution_count": 328,
   "id": "4a60ef00-b965-43d8-a784-3dc60dbc3ff1",
   "metadata": {},
   "outputs": [
    {
     "name": "stdout",
     "output_type": "stream",
     "text": [
      "78.46333333333332\n"
     ]
    }
   ],
   "source": [
    "promedio_mecaniofre = salarios['mecanico_fresador'].mean()\n",
    "print (promedio_mecaniofre)"
   ]
  },
  {
   "cell_type": "code",
   "execution_count": 329,
   "id": "60a24e23-832f-45a9-9c9f-44c029c1f718",
   "metadata": {},
   "outputs": [],
   "source": [
    "salarios['mecanico_fresador'] = salarios['mecanico_fresador'].fillna(78.46333333333332)"
   ]
  },
  {
   "cell_type": "code",
   "execution_count": 330,
   "id": "bb5be7b2-0598-438e-bd43-2d5515422212",
   "metadata": {},
   "outputs": [
    {
     "name": "stdout",
     "output_type": "stream",
     "text": [
      "75.62666666666667\n"
     ]
    }
   ],
   "source": [
    "promedio_mecanicorec = salarios['mecanico_rectificadora'].mean()\n",
    "print (promedio_mecanicorec)"
   ]
  },
  {
   "cell_type": "code",
   "execution_count": 331,
   "id": "c4d3b037-2acc-4b59-8d51-597292efa4b4",
   "metadata": {},
   "outputs": [],
   "source": [
    "salarios['mecanico_rectificadora'] = salarios['mecanico_rectificadora'].fillna(75.62666666666667)"
   ]
  },
  {
   "cell_type": "code",
   "execution_count": 332,
   "id": "19dd5c9e-f1cf-40b0-8666-f1cf9d66cf55",
   "metadata": {},
   "outputs": [
    {
     "name": "stdout",
     "output_type": "stream",
     "text": [
      "81.59500000000001\n"
     ]
    }
   ],
   "source": [
    "promedio_mecanicotor = salarios['mecanico_tornero'].mean()\n",
    "print (promedio_mecanicotor)"
   ]
  },
  {
   "cell_type": "code",
   "execution_count": 333,
   "id": "a1dd15e5-cbef-4070-b963-ce451c5fd07a",
   "metadata": {},
   "outputs": [],
   "source": [
    "salarios['mecanico_tornero'] = salarios['mecanico_tornero'].fillna(81.59500000000001)"
   ]
  },
  {
   "cell_type": "code",
   "execution_count": 334,
   "id": "fc5e2a29-0707-428b-8688-6f35b90708d0",
   "metadata": {},
   "outputs": [
    {
     "name": "stdout",
     "output_type": "stream",
     "text": [
      "79.6907142857143\n"
     ]
    }
   ],
   "source": [
    "promedio_moldero = salarios['moldero'].mean()\n",
    "print (promedio_moldero)"
   ]
  },
  {
   "cell_type": "code",
   "execution_count": 335,
   "id": "96077b72-38d9-489a-a1f1-10712dc8bcbc",
   "metadata": {},
   "outputs": [],
   "source": [
    "salarios['moldero'] = salarios['moldero'].fillna(79.6907142857143)"
   ]
  },
  {
   "cell_type": "code",
   "execution_count": 336,
   "id": "339e080b-5f75-47d8-a6b6-f860094408a4",
   "metadata": {},
   "outputs": [
    {
     "name": "stdout",
     "output_type": "stream",
     "text": [
      "79.25\n"
     ]
    }
   ],
   "source": [
    "promedio_niquelado = salarios['niquelado'].mean()\n",
    "print (promedio_niquelado)"
   ]
  },
  {
   "cell_type": "code",
   "execution_count": 337,
   "id": "7818d774-b35d-4065-b27e-d43115a9eb7b",
   "metadata": {},
   "outputs": [],
   "source": [
    "salarios['niquelado'] = salarios['niquelado'].fillna(79.25)"
   ]
  },
  {
   "cell_type": "code",
   "execution_count": 338,
   "id": "9d09fe6e-7d7d-44fc-a6d4-ffa49a77e94c",
   "metadata": {},
   "outputs": [
    {
     "name": "stdout",
     "output_type": "stream",
     "text": [
      "83.851875\n"
     ]
    }
   ],
   "source": [
    "promedio_perforista = salarios['perforista'].mean()\n",
    "print (promedio_perforista)"
   ]
  },
  {
   "cell_type": "code",
   "execution_count": 339,
   "id": "ce0c9ef8-7165-4287-abbb-ab8ba8bd6fd2",
   "metadata": {},
   "outputs": [],
   "source": [
    "salarios['perforista'] = salarios['perforista'].fillna(83.851875)"
   ]
  },
  {
   "cell_type": "code",
   "execution_count": 340,
   "id": "c28a3509-6ac3-4708-b797-15854b2cebe6",
   "metadata": {},
   "outputs": [
    {
     "name": "stdout",
     "output_type": "stream",
     "text": [
      "84.93687499999999\n"
     ]
    }
   ],
   "source": [
    "promedio_prensaoff = salarios['prensa_offset'].mean()\n",
    "print (promedio_prensaoff)"
   ]
  },
  {
   "cell_type": "code",
   "execution_count": 341,
   "id": "5ef5c8fe-48c5-4778-99a9-d73635a6e92b",
   "metadata": {},
   "outputs": [],
   "source": [
    "salarios['prensa_offset'] = salarios['prensa_offset'].fillna(84.93687499999999)"
   ]
  },
  {
   "cell_type": "code",
   "execution_count": 342,
   "id": "1dff4a96-9100-4836-8691-58f85a20a816",
   "metadata": {},
   "outputs": [
    {
     "name": "stdout",
     "output_type": "stream",
     "text": [
      "79.12312499999999\n"
     ]
    }
   ],
   "source": [
    "promedio_prensista = salarios['prensista'].mean()\n",
    "print (promedio_prensista)"
   ]
  },
  {
   "cell_type": "code",
   "execution_count": 343,
   "id": "364aae35-588c-45be-b10f-a7105f7de695",
   "metadata": {},
   "outputs": [],
   "source": [
    "salarios['prensista'] = salarios['prensista'].fillna(79.12312499999999)"
   ]
  },
  {
   "cell_type": "code",
   "execution_count": 344,
   "id": "429ccf35-629e-4403-ba62-a298557b014e",
   "metadata": {},
   "outputs": [
    {
     "name": "stdout",
     "output_type": "stream",
     "text": [
      "71.13666666666667\n"
     ]
    }
   ],
   "source": [
    "promedio_recepcionista = salarios['recepcionista'].mean()\n",
    "print (promedio_recepcionista)"
   ]
  },
  {
   "cell_type": "code",
   "execution_count": 345,
   "id": "59f83d8e-a9a6-42af-9527-376bd095eb09",
   "metadata": {},
   "outputs": [],
   "source": [
    "salarios['recepcionista'] = salarios['recepcionista'].fillna(71.13666666666667)"
   ]
  },
  {
   "cell_type": "code",
   "execution_count": 346,
   "id": "9253aad2-cd29-4e06-9f19-d44d14ae4572",
   "metadata": {},
   "outputs": [
    {
     "name": "stdout",
     "output_type": "stream",
     "text": [
      "75.84777777777778\n"
     ]
    }
   ],
   "source": [
    "promedio_talabartero = salarios['talabartero'].mean()\n",
    "print (promedio_talabartero)"
   ]
  },
  {
   "cell_type": "code",
   "execution_count": 347,
   "id": "27479d44-ee4c-4dc1-b3d1-10d2e1962dd7",
   "metadata": {},
   "outputs": [],
   "source": [
    "salarios['talabartero'] = salarios['talabartero'].fillna(75.84777777777778) "
   ]
  },
  {
   "cell_type": "code",
   "execution_count": 348,
   "id": "5cf376a9-dbd1-4aa8-8e78-0593f80ae7de",
   "metadata": {},
   "outputs": [
    {
     "name": "stdout",
     "output_type": "stream",
     "text": [
      "225.59833333333333\n"
     ]
    }
   ],
   "source": [
    "promedio_trabajadorhog = salarios['trabajador_hogar'].mean()\n",
    "print (promedio_trabajadorhog)"
   ]
  },
  {
   "cell_type": "code",
   "execution_count": 349,
   "id": "3eb33778-5676-4210-9891-d05761e48aac",
   "metadata": {},
   "outputs": [],
   "source": [
    "salarios['trabajador_hogar'] = salarios['trabajador_hogar'].fillna(225.59833333333333)"
   ]
  },
  {
   "cell_type": "code",
   "execution_count": 350,
   "id": "1765c732-a830-4007-9668-a6621fc19408",
   "metadata": {},
   "outputs": [
    {
     "name": "stdout",
     "output_type": "stream",
     "text": [
      "<class 'pandas.core.frame.DataFrame'>\n",
      "RangeIndex: 36 entries, 0 to 35\n",
      "Data columns (total 89 columns):\n",
      " #   Column                      Non-Null Count  Dtype  \n",
      "---  ------                      --------------  -----  \n",
      " 0   inicio_vigencia             36 non-null     object \n",
      " 1   zona                        36 non-null     object \n",
      " 2   salario_minimo_general      36 non-null     float64\n",
      " 3   albanileria                 36 non-null     float64\n",
      " 4   archivista                  36 non-null     float64\n",
      " 5   boticas                     36 non-null     float64\n",
      " 6   buldozer                    36 non-null     float64\n",
      " 7   cajero                      36 non-null     float64\n",
      " 8   cajista                     36 non-null     float64\n",
      " 9   cantinero                   36 non-null     float64\n",
      " 10  carpintero_obra             36 non-null     float64\n",
      " 11  carpintero_muebles          36 non-null     float64\n",
      " 12  cepilladora                 36 non-null     float64\n",
      " 13  cocinero                    36 non-null     float64\n",
      " 14  colchones                   36 non-null     float64\n",
      " 15  mosaico                     36 non-null     float64\n",
      " 16  contador                    36 non-null     float64\n",
      " 17  yesero                      36 non-null     float64\n",
      " 18  fierrero                    36 non-null     float64\n",
      " 19  cortador_calzado            36 non-null     float64\n",
      " 20  costurero_taller            36 non-null     float64\n",
      " 21  costurero_domicilio         36 non-null     float64\n",
      " 22  chofer_acomodador           36 non-null     float64\n",
      " 23  chofer_camion               36 non-null     float64\n",
      " 24  chofer_camioneta            36 non-null     float64\n",
      " 25  chofer_grua                 36 non-null     float64\n",
      " 26  draga                       36 non-null     float64\n",
      " 27  ebanista                    36 non-null     float64\n",
      " 28  electricista_instalaciones  36 non-null     float64\n",
      " 29  electricista_autos          36 non-null     float64\n",
      " 30  electricista_motores        36 non-null     float64\n",
      " 31  gondola                     36 non-null     float64\n",
      " 32  bodega                      36 non-null     float64\n",
      " 33  enfermero_auxiliar          36 non-null     float64\n",
      " 34  ferreterias                 36 non-null     float64\n",
      " 35  fogonero                    36 non-null     float64\n",
      " 36  gasolinero                  36 non-null     float64\n",
      " 37  herreria                    36 non-null     float64\n",
      " 38  hojalateria                 36 non-null     float64\n",
      " 39  hornero                     36 non-null     float64\n",
      " 40  jornalero                   36 non-null     float64\n",
      " 41  joyero_oficial              36 non-null     float64\n",
      " 42  joyero_domicilio            36 non-null     float64\n",
      " 43  laboratorios                36 non-null     float64\n",
      " 44  linotipista                 36 non-null     float64\n",
      " 45  lubricador                  36 non-null     float64\n",
      " 46  maestro                     36 non-null     float64\n",
      " 47  manejador                   36 non-null     float64\n",
      " 48  maquinaria_agricola         36 non-null     float64\n",
      " 49  maquina_fundicion           36 non-null     float64\n",
      " 50  maquina_troquelado          36 non-null     float64\n",
      " 51  maquina_madera              36 non-null     float64\n",
      " 52  maquina_plastico            36 non-null     float64\n",
      " 53  mecanico_fresador           36 non-null     float64\n",
      " 54  mecanico_rectificadora      36 non-null     float64\n",
      " 55  mecanico_autos              36 non-null     float64\n",
      " 56  mecanico_tornero            36 non-null     float64\n",
      " 57  moldero                     36 non-null     float64\n",
      " 58  montador_calzado            36 non-null     float64\n",
      " 59  niquelado                   36 non-null     float64\n",
      " 60  peinador                    36 non-null     float64\n",
      " 61  perforista                  36 non-null     float64\n",
      " 62  pintor_autos                36 non-null     float64\n",
      " 63  pintor_casas                36 non-null     float64\n",
      " 64  planchador                  36 non-null     float64\n",
      " 65  plomero                     36 non-null     float64\n",
      " 66  prensa_offset               36 non-null     float64\n",
      " 67  prensista                   36 non-null     float64\n",
      " 68  radiotecnico_electrico      36 non-null     float64\n",
      " 69  recamarero                  36 non-null     float64\n",
      " 70  recepcionista               36 non-null     float64\n",
      " 71  refaccionaria_autos         36 non-null     float64\n",
      " 72  reparador_hogar             36 non-null     float64\n",
      " 73  reportero                   36 non-null     float64\n",
      " 74  reportero_grafico           36 non-null     float64\n",
      " 75  repostero                   36 non-null     float64\n",
      " 76  sastreria_domicilio         36 non-null     float64\n",
      " 77  secretaria                  36 non-null     float64\n",
      " 78  soldador_soplete            36 non-null     float64\n",
      " 79  talabartero                 36 non-null     float64\n",
      " 80  tablajero                   36 non-null     float64\n",
      " 81  tapicero_autos              36 non-null     float64\n",
      " 82  tapicero_muebles            36 non-null     float64\n",
      " 83  trabajador_hogar            36 non-null     float64\n",
      " 84  trabajador_social           36 non-null     float64\n",
      " 85  vaquero                     36 non-null     float64\n",
      " 86  velador                     36 non-null     float64\n",
      " 87  vendedor_piso               36 non-null     float64\n",
      " 88  zapatero                    36 non-null     float64\n",
      "dtypes: float64(87), object(2)\n",
      "memory usage: 25.2+ KB\n"
     ]
    }
   ],
   "source": [
    "#Confirmamos que no existan datos vacíos, para ello empleamos la función info. \n",
    "salarios.info()"
   ]
  },
  {
   "cell_type": "markdown",
   "id": "0ab3684c-c1cd-4c2b-94df-d2ed3683fb32",
   "metadata": {},
   "source": [
    "<h1><font color=\"#1D4089\" size=5>Uniformamos los valores de la columna zona</font><h1>"
   ]
  },
  {
   "cell_type": "markdown",
   "id": "af8c0363-2525-45b5-845a-0a855a4bd0b2",
   "metadata": {},
   "source": [
    "En la columna zona podemos observar la utilización de cadenas de caracteres, aunque también podemos encontrar únicamente un carácter, por lo cual, cambiaremos las cadenas por letras que puedan agruparlos de mejor manera."
   ]
  },
  {
   "cell_type": "code",
   "execution_count": 351,
   "id": "15297069-82c7-41bd-8dda-4a44b4e9c33c",
   "metadata": {},
   "outputs": [
    {
     "name": "stdout",
     "output_type": "stream",
     "text": [
      "0                a\n",
      "1                b\n",
      "2                c\n",
      "3                a\n",
      "4                b\n",
      "5                c\n",
      "6                a\n",
      "7                b\n",
      "8                c\n",
      "9                a\n",
      "10               b\n",
      "11               c\n",
      "12               a\n",
      "13               b\n",
      "14               a\n",
      "15               b\n",
      "16               a\n",
      "17               b\n",
      "18               a\n",
      "19               b\n",
      "20               a\n",
      "21               b\n",
      "22           unica\n",
      "23           unica\n",
      "24           unica\n",
      "25           unica\n",
      "26    restodelpais\n",
      "27            zlfn\n",
      "28    restodelpais\n",
      "29            zlfn\n",
      "30    restodelpais\n",
      "31            zlfn\n",
      "32    restodelpais\n",
      "33            zlfn\n",
      "34    restodelpais\n",
      "35            zlfn\n",
      "Name: zona, dtype: object\n"
     ]
    }
   ],
   "source": [
    "#Imprimimos la columna zona para poder visualizar los registros que vamos a modificar. \n",
    "print(salarios['zona'])"
   ]
  },
  {
   "cell_type": "code",
   "execution_count": 352,
   "id": "37f42c22-34b6-4347-a100-31be82d88614",
   "metadata": {},
   "outputs": [
    {
     "name": "stdout",
     "output_type": "stream",
     "text": [
      "0     a\n",
      "1     b\n",
      "2     c\n",
      "3     a\n",
      "4     b\n",
      "5     c\n",
      "6     a\n",
      "7     b\n",
      "8     c\n",
      "9     a\n",
      "10    b\n",
      "11    c\n",
      "12    a\n",
      "13    b\n",
      "14    a\n",
      "15    b\n",
      "16    a\n",
      "17    b\n",
      "18    a\n",
      "19    b\n",
      "20    a\n",
      "21    b\n",
      "22    u\n",
      "23    u\n",
      "24    u\n",
      "25    u\n",
      "26    r\n",
      "27    z\n",
      "28    r\n",
      "29    z\n",
      "30    r\n",
      "31    z\n",
      "32    r\n",
      "33    z\n",
      "34    r\n",
      "35    z\n",
      "Name: zona, dtype: object\n"
     ]
    }
   ],
   "source": [
    "#Cambiamos las cadenas de caracteres ubicadas en la columna zona por letras.\n",
    "#Para ello creamos un diccionario de mapeo. \n",
    "mapeo = {\n",
    "    'unica': 'u',\n",
    "    'restodelpais': 'r',\n",
    "    'zlfn': 'z'\n",
    "}\n",
    "\n",
    "salarios['zona'] = salarios['zona'].replace(mapeo)   #Aplicamos el reemplazo utilizando el método 'replace'\n",
    "salarios.reset_index(drop=True, inplace=True)\n",
    "print(salarios['zona'])"
   ]
  },
  {
   "cell_type": "markdown",
   "id": "7735a33c-3abb-41e0-8955-9bd37f09a8ba",
   "metadata": {},
   "source": [
    "<h1><font color=\"#1D4089\" size=5>Definimos dos decimales los salarios</font><h1>"
   ]
  },
  {
   "cell_type": "markdown",
   "id": "49ee0138-23e4-4113-9872-d708b1c606f1",
   "metadata": {},
   "source": [
    "Durante el proceso de eliminación de datos nulos, se encontraron cantidades con diferentes valores decimales. Para garantizar la consistencia en el análisis, hemos optado por limitar todas las cantidades a dos decimales. De esta manera, trabajaremos con una precisión uniforme y facilitaremos la interpretación de los resultados."
   ]
  },
  {
   "cell_type": "code",
   "execution_count": 353,
   "id": "b3430187-80fa-40fb-a910-4a2f05ceb767",
   "metadata": {},
   "outputs": [
    {
     "name": "stdout",
     "output_type": "stream",
     "text": [
      "   inicio_vigencia zona  salario_minimo_general  albanileria  archivista  \\\n",
      "0       01/01/2009    a                   54.80        79.87       76.35   \n",
      "1       01/01/2009    b                   53.26        77.81       74.29   \n",
      "2       01/01/2009    c                   51.95        75.71       72.24   \n",
      "3       01/01/2010    a                   57.46        83.74       74.29   \n",
      "4       01/01/2010    b                   55.84        81.58       74.29   \n",
      "5       01/01/2010    c                   54.47        79.38       74.29   \n",
      "6       01/01/2011    a                   59.82        87.17       74.29   \n",
      "7       01/01/2011    b                   58.13        84.92       74.29   \n",
      "8       01/01/2011    c                   56.70        82.63       74.29   \n",
      "9       01/01/2012    a                   62.33        90.83       74.29   \n",
      "10      01/01/2012    b                   60.57        88.49       74.29   \n",
      "11      01/01/2012    c                   59.08        86.10       74.29   \n",
      "12      27/11/2012    a                   62.33        90.83       74.29   \n",
      "13      27/11/2012    b                   59.08        86.10       74.29   \n",
      "14      01/01/2013    a                   64.76        94.37       74.29   \n",
      "15      01/01/2013    b                   61.38        89.46       74.29   \n",
      "16      01/01/2014    a                   67.29        98.05       74.29   \n",
      "17      01/01/2014    b                   63.77        92.95       74.29   \n",
      "18      01/01/2015    a                   70.10       102.20       74.29   \n",
      "19      01/01/2015    b                   66.45        96.85       74.29   \n",
      "20      01/04/2015    a                   70.10       102.20       74.29   \n",
      "21      01/04/2015    b                   68.28        99.51       74.29   \n",
      "22      01/10/2015    u                   70.10       102.20       74.29   \n",
      "23      01/01/2016    u                   73.04       106.49       74.29   \n",
      "24      01/01/2017    u                   80.04       110.64       74.29   \n",
      "25      01/12/2017    u                   88.36       114.95       74.29   \n",
      "26      01/01/2019    r                  102.68       120.70       74.29   \n",
      "27      01/01/2019    z                  176.72       176.72       74.29   \n",
      "28      01/01/2020    r                  123.22       142.14       74.29   \n",
      "29      01/01/2020    z                  185.56       185.56       74.29   \n",
      "30      01/01/2021    r                  141.70       163.46       74.29   \n",
      "31      01/01/2021    z                  213.39       213.39       74.29   \n",
      "32      01/01/2022    r                  172.87       199.42       74.29   \n",
      "33      01/01/2022    z                  260.34       260.34       74.29   \n",
      "34      01/01/2023    r                  207.44       239.31       74.29   \n",
      "35      01/01/2023    z                  312.41       312.41       74.29   \n",
      "\n",
      "    boticas  buldozer  cajero  cajista  cantinero  ...  talabartero  \\\n",
      "0     69.50     84.13   70.84    75.41      72.49  ...        74.47   \n",
      "1     67.65     81.74   69.11    73.52      70.53  ...        72.47   \n",
      "2     65.94     79.61   67.35    71.42      68.70  ...        70.46   \n",
      "3     72.87     88.21   74.28    79.07      76.01  ...        78.08   \n",
      "4     70.93     85.70   72.46    77.09      73.95  ...        75.98   \n",
      "5     69.14     83.47   70.62    74.88      72.03  ...        73.88   \n",
      "6     75.86     91.83   77.33    82.31      79.13  ...        81.28   \n",
      "7     73.84     89.21   75.43    80.25      76.98  ...        79.10   \n",
      "8     71.97     86.89   73.52    77.95      74.98  ...        76.91   \n",
      "9     79.05     95.69   80.58    85.77      82.45  ...        75.85   \n",
      "10    76.94     92.96   78.60    83.62      80.21  ...        75.85   \n",
      "11    74.99     90.54   76.61    81.22      78.13  ...        75.85   \n",
      "12    79.05     95.69   80.58    85.77      82.45  ...        75.85   \n",
      "13    74.99     90.54   76.61    81.22      78.13  ...        75.85   \n",
      "14    82.13     99.42   83.72    89.12      85.67  ...        75.85   \n",
      "15    77.91     94.07   79.60    84.39      81.18  ...        75.85   \n",
      "16    85.33    103.30   86.99    80.19      89.01  ...        75.85   \n",
      "17    80.95     97.74   82.70    80.19      84.35  ...        75.85   \n",
      "18    88.90    107.65   90.65    80.19      92.75  ...        75.85   \n",
      "19    84.35    101.85   86.20    80.19      87.90  ...        75.85   \n",
      "20    88.90    107.65   90.65    80.19      92.75  ...        75.85   \n",
      "21    86.67    104.65   88.57    80.19      90.31  ...        75.85   \n",
      "22    88.90    107.65   90.65    80.19      92.75  ...        75.85   \n",
      "23    92.63    112.17   94.46    80.19      96.65  ...        75.85   \n",
      "24    96.24    116.54   98.14    80.19     100.42  ...        75.85   \n",
      "25    99.99    121.09  101.97    80.19     104.34  ...        75.85   \n",
      "26   104.99    127.14  107.07    80.19     109.56  ...        75.85   \n",
      "27   176.72    176.72  176.72    80.19     176.72  ...        75.85   \n",
      "28   125.64    148.90  127.83    80.19     130.44  ...        75.85   \n",
      "29   185.56    185.56  185.56    80.19     185.56  ...        75.85   \n",
      "30   144.49    171.24  147.00    80.19     150.01  ...        75.85   \n",
      "31   213.39    213.39  213.39    80.19     213.39  ...        75.85   \n",
      "32   176.28    208.91  179.34    80.19     183.01  ...        75.85   \n",
      "33   260.34    260.34  260.34    80.19     260.34  ...        75.85   \n",
      "34   211.53    250.70  215.21    80.19     219.61  ...        75.85   \n",
      "35   312.41    312.41  312.41    80.19     312.41  ...        75.85   \n",
      "\n",
      "    tablajero  tapicero_autos  tapicero_muebles  trabajador_hogar  \\\n",
      "0       74.47           75.76             75.76            225.60   \n",
      "1       72.47           73.93             73.93            225.60   \n",
      "2       70.46           71.88             71.88            225.60   \n",
      "3       78.08           79.43             79.43            225.60   \n",
      "4       75.98           77.52             77.52            225.60   \n",
      "5       73.88           75.37             75.37            225.60   \n",
      "6       81.28           82.69             82.69            225.60   \n",
      "7       79.10           80.70             80.70            225.60   \n",
      "8       76.91           78.46             78.46            225.60   \n",
      "9       84.69           86.16             86.16            225.60   \n",
      "10      82.42           84.09             84.09            225.60   \n",
      "11      80.14           81.76             81.76            225.60   \n",
      "12      84.69           86.16             86.16            225.60   \n",
      "13      80.14           81.76             81.76            225.60   \n",
      "14      87.99           89.52             89.52            225.60   \n",
      "15      83.27           84.95             84.95            225.60   \n",
      "16      91.42           93.01             93.01            225.60   \n",
      "17      86.52           88.26             88.26            225.60   \n",
      "18      95.25           96.90             96.90            225.60   \n",
      "19      90.15           92.00             92.00            225.60   \n",
      "20      95.25           96.90             96.90            225.60   \n",
      "21      92.63           94.53             94.53            225.60   \n",
      "22      95.25           96.90             96.90            225.60   \n",
      "23      99.25          100.97            100.97            225.60   \n",
      "24     103.12          104.91            104.91            225.60   \n",
      "25     107.14          109.00            109.00            225.60   \n",
      "26     112.50          114.45            114.45            225.60   \n",
      "27     176.72          176.72            176.72            225.60   \n",
      "28     133.53          135.58            135.58            225.60   \n",
      "29     185.56          185.56            185.56            225.60   \n",
      "30     153.56          155.92            155.92            154.03   \n",
      "31     213.39          213.39            213.39            213.39   \n",
      "32     187.34          190.22            190.22            187.92   \n",
      "33     260.34          260.34            260.34            260.34   \n",
      "34     224.81          228.27            228.27            225.50   \n",
      "35     312.41          312.41            312.41            312.41   \n",
      "\n",
      "    trabajador_social  vaquero  velador  vendedor_piso  zapatero  \n",
      "0               90.34    69.27    70.73          72.84     71.72  \n",
      "1               87.84    67.47    68.70          70.99     69.94  \n",
      "2               85.56    65.34    67.17          68.99     68.11  \n",
      "3               94.72    72.63    74.16          76.37     75.20  \n",
      "4               92.10    70.74    72.03          74.43     73.33  \n",
      "5               89.71    68.51    70.43          72.34     71.41  \n",
      "6               98.60    75.61    77.20          79.50     78.28  \n",
      "7               95.88    73.64    74.98          77.48     76.34  \n",
      "8               93.39    71.32    73.32          75.31     74.34  \n",
      "9              102.74    78.79    80.44          82.84     81.57  \n",
      "10              99.91    76.73    78.13          80.73     79.55  \n",
      "11              97.31    74.32    76.40          78.47     77.46  \n",
      "12             102.74    78.79    80.44          82.84     81.57  \n",
      "13              97.31    74.32    76.40          78.47     77.46  \n",
      "14             106.75    81.86    83.58          86.07     84.75  \n",
      "15             101.11    77.22    79.38          81.53     80.48  \n",
      "16             110.91    85.05    86.84          89.43     88.06  \n",
      "17             105.05    80.23    82.48          84.71     83.62  \n",
      "18             115.55    88.60    90.50          93.20     91.75  \n",
      "19             109.45    83.60    85.95          88.25     87.10  \n",
      "20             115.55    88.60    90.50          91.20     91.75  \n",
      "21             112.46    85.90    88.31          90.67     89.49  \n",
      "22             115.55    88.60    90.50          93.20     91.75  \n",
      "23             120.40    92.32    94.30          97.11     95.60  \n",
      "24             125.10    95.92    97.98         100.90     99.33  \n",
      "25             129.98    99.60   101.80         104.84    103.20  \n",
      "26             136.48   104.64   106.89         110.08    108.36  \n",
      "27             176.72   176.72   176.72         176.72    176.72  \n",
      "28             158.71   125.28   127.64         130.99    129.18  \n",
      "29             185.56   185.56   185.56         185.56    185.56  \n",
      "30             182.52   144.07   146.79         150.64    148.56  \n",
      "31             213.39   213.39   213.39         213.39    213.39  \n",
      "32             222.67   175.77   179.08         183.78    181.24  \n",
      "33             260.34   260.34   260.34         260.34    260.34  \n",
      "34             267.21   210.92   214.90         220.54    217.49  \n",
      "35             312.41   312.41   312.41         312.41    312.41  \n",
      "\n",
      "[36 rows x 89 columns]\n"
     ]
    }
   ],
   "source": [
    "salarios_redondeado = salarios.round(2)\n",
    "print(salarios_redondeado)"
   ]
  },
  {
   "cell_type": "markdown",
   "id": "df314995-3a62-44e5-99d3-34c3fe18bd76",
   "metadata": {
    "tags": []
   },
   "source": [
    "<h1><font color=\"#1D4089\" size=5>Nuevo archivo</font><h1>"
   ]
  },
  {
   "cell_type": "markdown",
   "id": "83dbe8cb-4c83-4710-b8c2-bc51f6b83942",
   "metadata": {},
   "source": [
    "Para el desarrollo de modelos de predicción, utilizaremos un nuevo archivo CSV, el cual podrás descargar ejecutando la siguiente línea de código. Este archivo contiene los datos necesarios para construir y evaluar nuestros modelos, permitiéndonos obtener predicciones precisas y tomar decisiones informadas."
   ]
  },
  {
   "cell_type": "code",
   "execution_count": 355,
   "id": "4eb46e6d-e3ed-472b-bf5b-932d5716d668",
   "metadata": {},
   "outputs": [],
   "source": [
    "#Descargamos el nuevo archivo.csv\n",
    "salarios_redondeado.to_csv('Datos.csv', index=False)"
   ]
  }
 ],
 "metadata": {
  "kernelspec": {
   "display_name": "Python 3 (ipykernel)",
   "language": "python",
   "name": "python3"
  },
  "language_info": {
   "codemirror_mode": {
    "name": "ipython",
    "version": 3
   },
   "file_extension": ".py",
   "mimetype": "text/x-python",
   "name": "python",
   "nbconvert_exporter": "python",
   "pygments_lexer": "ipython3",
   "version": "3.10.9"
  }
 },
 "nbformat": 4,
 "nbformat_minor": 5
}
